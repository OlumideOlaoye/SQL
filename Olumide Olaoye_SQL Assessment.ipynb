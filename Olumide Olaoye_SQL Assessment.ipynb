{
 "cells": [
  {
   "cell_type": "markdown",
   "metadata": {},
   "source": [
    "# SQL Exercise"
   ]
  },
  {
   "cell_type": "markdown",
   "metadata": {},
   "source": [
    "#### Load extension"
   ]
  },
  {
   "cell_type": "code",
   "execution_count": 1,
   "metadata": {},
   "outputs": [],
   "source": [
    "%load_ext sql"
   ]
  },
  {
   "cell_type": "markdown",
   "metadata": {},
   "source": [
    "#### Connect to database"
   ]
  },
  {
   "cell_type": "code",
   "execution_count": 2,
   "metadata": {},
   "outputs": [],
   "source": [
    "%sql sqlite:///employee.db"
   ]
  },
  {
   "cell_type": "markdown",
   "metadata": {},
   "source": [
    "#### Check tables in database"
   ]
  },
  {
   "cell_type": "code",
   "execution_count": 3,
   "metadata": {},
   "outputs": [
    {
     "name": "stdout",
     "output_type": "stream",
     "text": [
      " * sqlite:///employee.db\n",
      "Done.\n"
     ]
    },
    {
     "data": {
      "text/html": [
       "<table>\n",
       "    <tr>\n",
       "        <th>name</th>\n",
       "    </tr>\n",
       "    <tr>\n",
       "        <td>employee_details</td>\n",
       "    </tr>\n",
       "    <tr>\n",
       "        <td>salaries</td>\n",
       "    </tr>\n",
       "    <tr>\n",
       "        <td>department</td>\n",
       "    </tr>\n",
       "    <tr>\n",
       "        <td>performance</td>\n",
       "    </tr>\n",
       "</table>"
      ],
      "text/plain": [
       "[('employee_details',), ('salaries',), ('department',), ('performance',)]"
      ]
     },
     "execution_count": 3,
     "metadata": {},
     "output_type": "execute_result"
    }
   ],
   "source": [
    "%sql SELECT name FROM sqlite_master WHERE type = 'table'"
   ]
  },
  {
   "cell_type": "markdown",
   "metadata": {},
   "source": [
    "#### Check for the content of each table."
   ]
  },
  {
   "cell_type": "code",
   "execution_count": 4,
   "metadata": {},
   "outputs": [
    {
     "name": "stdout",
     "output_type": "stream",
     "text": [
      " * sqlite:///employee.db\n",
      "Done.\n"
     ]
    },
    {
     "data": {
      "text/html": [
       "<table>\n",
       "    <tr>\n",
       "        <th>emp_id</th>\n",
       "        <th>firstname</th>\n",
       "        <th>lastname</th>\n",
       "        <th>job_role</th>\n",
       "        <th>manager_id</th>\n",
       "    </tr>\n",
       "    <tr>\n",
       "        <td>3001</td>\n",
       "        <td>Smith</td>\n",
       "        <td>Daniel</td>\n",
       "        <td>CEO</td>\n",
       "        <td>None</td>\n",
       "    </tr>\n",
       "    <tr>\n",
       "        <td>3002</td>\n",
       "        <td>Bernard</td>\n",
       "        <td>Williams</td>\n",
       "        <td>CTO</td>\n",
       "        <td>None</td>\n",
       "    </tr>\n",
       "    <tr>\n",
       "        <td>3003</td>\n",
       "        <td>Kane</td>\n",
       "        <td>Woods</td>\n",
       "        <td>Logistics Manager</td>\n",
       "        <td>3001</td>\n",
       "    </tr>\n",
       "    <tr>\n",
       "        <td>3004</td>\n",
       "        <td>Katty</td>\n",
       "        <td>Harris</td>\n",
       "        <td>Admin. Manager</td>\n",
       "        <td>3001</td>\n",
       "    </tr>\n",
       "    <tr>\n",
       "        <td>3005</td>\n",
       "        <td>Evelyn</td>\n",
       "        <td>Donald</td>\n",
       "        <td>Financial Analyst</td>\n",
       "        <td>3001</td>\n",
       "    </tr>\n",
       "    <tr>\n",
       "        <td>3006</td>\n",
       "        <td>Edward</td>\n",
       "        <td>Peters</td>\n",
       "        <td>Business Analyst</td>\n",
       "        <td>3005</td>\n",
       "    </tr>\n",
       "    <tr>\n",
       "        <td>3007</td>\n",
       "        <td>Caroline</td>\n",
       "        <td>Victor</td>\n",
       "        <td>Accountant</td>\n",
       "        <td>3005</td>\n",
       "    </tr>\n",
       "    <tr>\n",
       "        <td>3008</td>\n",
       "        <td>Roland</td>\n",
       "        <td>Cole</td>\n",
       "        <td>Software Developer</td>\n",
       "        <td>3002</td>\n",
       "    </tr>\n",
       "    <tr>\n",
       "        <td>3009</td>\n",
       "        <td>Dave</td>\n",
       "        <td>Roberts</td>\n",
       "        <td>Software Developer</td>\n",
       "        <td>3002</td>\n",
       "    </tr>\n",
       "    <tr>\n",
       "        <td>3010</td>\n",
       "        <td>Maria</td>\n",
       "        <td>Dylan</td>\n",
       "        <td>UI/UX Designer</td>\n",
       "        <td>3002</td>\n",
       "    </tr>\n",
       "    <tr>\n",
       "        <td>3011</td>\n",
       "        <td>Carlos</td>\n",
       "        <td>Junior</td>\n",
       "        <td>Data Analyst</td>\n",
       "        <td>3002</td>\n",
       "    </tr>\n",
       "    <tr>\n",
       "        <td>3012</td>\n",
       "        <td>Brenda</td>\n",
       "        <td>Marcus</td>\n",
       "        <td>Driver</td>\n",
       "        <td>3004</td>\n",
       "    </tr>\n",
       "    <tr>\n",
       "        <td>3013</td>\n",
       "        <td>Kate</td>\n",
       "        <td>John</td>\n",
       "        <td>Dispatch Rider</td>\n",
       "        <td>3004</td>\n",
       "    </tr>\n",
       "    <tr>\n",
       "        <td>3014</td>\n",
       "        <td>Wilberforce</td>\n",
       "        <td>Freeman</td>\n",
       "        <td>Dispatch Rider</td>\n",
       "        <td>3004</td>\n",
       "    </tr>\n",
       "    <tr>\n",
       "        <td>3015</td>\n",
       "        <td>Steffany</td>\n",
       "        <td>Baker</td>\n",
       "        <td>Dispatch Rider</td>\n",
       "        <td>3004</td>\n",
       "    </tr>\n",
       "    <tr>\n",
       "        <td>3016</td>\n",
       "        <td>Helen</td>\n",
       "        <td>Gilbert</td>\n",
       "        <td>Warehouse Staff</td>\n",
       "        <td>3004</td>\n",
       "    </tr>\n",
       "    <tr>\n",
       "        <td>3017</td>\n",
       "        <td>Kenneth</td>\n",
       "        <td>Mubarak</td>\n",
       "        <td>Warehouse Staff</td>\n",
       "        <td>3004</td>\n",
       "    </tr>\n",
       "    <tr>\n",
       "        <td>3018</td>\n",
       "        <td>Gareth</td>\n",
       "        <td>Dennis</td>\n",
       "        <td>Front Desk Officer</td>\n",
       "        <td>3003</td>\n",
       "    </tr>\n",
       "    <tr>\n",
       "        <td>3019</td>\n",
       "        <td>James</td>\n",
       "        <td>Cannon</td>\n",
       "        <td>Security</td>\n",
       "        <td>3003</td>\n",
       "    </tr>\n",
       "    <tr>\n",
       "        <td>3020</td>\n",
       "        <td>Azeez</td>\n",
       "        <td>Hakeem</td>\n",
       "        <td>Cleaner</td>\n",
       "        <td>3003</td>\n",
       "    </tr>\n",
       "</table>"
      ],
      "text/plain": [
       "[(3001, 'Smith', 'Daniel', 'CEO', None),\n",
       " (3002, 'Bernard', 'Williams', 'CTO', None),\n",
       " (3003, 'Kane', 'Woods', 'Logistics Manager', 3001),\n",
       " (3004, 'Katty', 'Harris', 'Admin. Manager', 3001),\n",
       " (3005, 'Evelyn', 'Donald', 'Financial Analyst', 3001),\n",
       " (3006, 'Edward', 'Peters', 'Business Analyst', 3005),\n",
       " (3007, 'Caroline', 'Victor', 'Accountant', 3005),\n",
       " (3008, 'Roland', 'Cole', 'Software Developer', 3002),\n",
       " (3009, 'Dave', 'Roberts', 'Software Developer', 3002),\n",
       " (3010, 'Maria', 'Dylan', 'UI/UX Designer', 3002),\n",
       " (3011, 'Carlos', 'Junior', 'Data Analyst', 3002),\n",
       " (3012, 'Brenda', 'Marcus', 'Driver', 3004),\n",
       " (3013, 'Kate', 'John', 'Dispatch Rider', 3004),\n",
       " (3014, 'Wilberforce', 'Freeman', 'Dispatch Rider', 3004),\n",
       " (3015, 'Steffany', 'Baker', 'Dispatch Rider', 3004),\n",
       " (3016, 'Helen', 'Gilbert', 'Warehouse Staff', 3004),\n",
       " (3017, 'Kenneth', 'Mubarak', 'Warehouse Staff', 3004),\n",
       " (3018, 'Gareth', 'Dennis', 'Front Desk Officer', 3003),\n",
       " (3019, 'James', 'Cannon', 'Security', 3003),\n",
       " (3020, 'Azeez', 'Hakeem', 'Cleaner', 3003)]"
      ]
     },
     "execution_count": 4,
     "metadata": {},
     "output_type": "execute_result"
    }
   ],
   "source": [
    "%%sql \n",
    "SELECT * \n",
    "FROM employee_details;"
   ]
  },
  {
   "cell_type": "code",
   "execution_count": 5,
   "metadata": {},
   "outputs": [
    {
     "name": "stdout",
     "output_type": "stream",
     "text": [
      " * sqlite:///employee.db\n",
      "Done.\n"
     ]
    },
    {
     "data": {
      "text/html": [
       "<table>\n",
       "    <tr>\n",
       "        <th>emp_id</th>\n",
       "        <th>salary</th>\n",
       "    </tr>\n",
       "    <tr>\n",
       "        <td>3001</td>\n",
       "        <td>None</td>\n",
       "    </tr>\n",
       "    <tr>\n",
       "        <td>3002</td>\n",
       "        <td>None</td>\n",
       "    </tr>\n",
       "    <tr>\n",
       "        <td>3003</td>\n",
       "        <td>400000</td>\n",
       "    </tr>\n",
       "    <tr>\n",
       "        <td>3004</td>\n",
       "        <td>400000</td>\n",
       "    </tr>\n",
       "    <tr>\n",
       "        <td>3005</td>\n",
       "        <td>450000</td>\n",
       "    </tr>\n",
       "    <tr>\n",
       "        <td>3006</td>\n",
       "        <td>400000</td>\n",
       "    </tr>\n",
       "    <tr>\n",
       "        <td>3007</td>\n",
       "        <td>400000</td>\n",
       "    </tr>\n",
       "    <tr>\n",
       "        <td>3008</td>\n",
       "        <td>400000</td>\n",
       "    </tr>\n",
       "    <tr>\n",
       "        <td>3009</td>\n",
       "        <td>350000</td>\n",
       "    </tr>\n",
       "    <tr>\n",
       "        <td>3010</td>\n",
       "        <td>300000</td>\n",
       "    </tr>\n",
       "    <tr>\n",
       "        <td>3011</td>\n",
       "        <td>300000</td>\n",
       "    </tr>\n",
       "    <tr>\n",
       "        <td>3012</td>\n",
       "        <td>180000</td>\n",
       "    </tr>\n",
       "    <tr>\n",
       "        <td>3013</td>\n",
       "        <td>150000</td>\n",
       "    </tr>\n",
       "    <tr>\n",
       "        <td>3014</td>\n",
       "        <td>150000</td>\n",
       "    </tr>\n",
       "    <tr>\n",
       "        <td>3015</td>\n",
       "        <td>150000</td>\n",
       "    </tr>\n",
       "    <tr>\n",
       "        <td>3016</td>\n",
       "        <td>120000</td>\n",
       "    </tr>\n",
       "    <tr>\n",
       "        <td>3017</td>\n",
       "        <td>120000</td>\n",
       "    </tr>\n",
       "    <tr>\n",
       "        <td>3018</td>\n",
       "        <td>120000</td>\n",
       "    </tr>\n",
       "    <tr>\n",
       "        <td>3019</td>\n",
       "        <td>100000</td>\n",
       "    </tr>\n",
       "    <tr>\n",
       "        <td>3020</td>\n",
       "        <td>100000</td>\n",
       "    </tr>\n",
       "</table>"
      ],
      "text/plain": [
       "[(3001, None),\n",
       " (3002, None),\n",
       " (3003, 400000),\n",
       " (3004, 400000),\n",
       " (3005, 450000),\n",
       " (3006, 400000),\n",
       " (3007, 400000),\n",
       " (3008, 400000),\n",
       " (3009, 350000),\n",
       " (3010, 300000),\n",
       " (3011, 300000),\n",
       " (3012, 180000),\n",
       " (3013, 150000),\n",
       " (3014, 150000),\n",
       " (3015, 150000),\n",
       " (3016, 120000),\n",
       " (3017, 120000),\n",
       " (3018, 120000),\n",
       " (3019, 100000),\n",
       " (3020, 100000)]"
      ]
     },
     "execution_count": 5,
     "metadata": {},
     "output_type": "execute_result"
    }
   ],
   "source": [
    "%%sql \n",
    "SELECT * \n",
    "FROM salaries;"
   ]
  },
  {
   "cell_type": "code",
   "execution_count": 6,
   "metadata": {},
   "outputs": [
    {
     "name": "stdout",
     "output_type": "stream",
     "text": [
      " * sqlite:///employee.db\n",
      "Done.\n"
     ]
    },
    {
     "data": {
      "text/html": [
       "<table>\n",
       "    <tr>\n",
       "        <th>dept_id</th>\n",
       "        <th>name</th>\n",
       "        <th>manager_id</th>\n",
       "    </tr>\n",
       "    <tr>\n",
       "        <td>7001</td>\n",
       "        <td>Admin</td>\n",
       "        <td>3003</td>\n",
       "    </tr>\n",
       "    <tr>\n",
       "        <td>7002</td>\n",
       "        <td>Logistics</td>\n",
       "        <td>3004</td>\n",
       "    </tr>\n",
       "    <tr>\n",
       "        <td>7003</td>\n",
       "        <td>Finance</td>\n",
       "        <td>3005</td>\n",
       "    </tr>\n",
       "    <tr>\n",
       "        <td>7004</td>\n",
       "        <td>IT</td>\n",
       "        <td>3002</td>\n",
       "    </tr>\n",
       "</table>"
      ],
      "text/plain": [
       "[(7001, 'Admin', 3003),\n",
       " (7002, 'Logistics', 3004),\n",
       " (7003, 'Finance', 3005),\n",
       " (7004, 'IT', 3002)]"
      ]
     },
     "execution_count": 6,
     "metadata": {},
     "output_type": "execute_result"
    }
   ],
   "source": [
    "%%sql \n",
    "SELECT * \n",
    "FROM department;"
   ]
  },
  {
   "cell_type": "code",
   "execution_count": 7,
   "metadata": {},
   "outputs": [
    {
     "name": "stdout",
     "output_type": "stream",
     "text": [
      " * sqlite:///employee.db\n",
      "Done.\n"
     ]
    },
    {
     "data": {
      "text/html": [
       "<table>\n",
       "    <tr>\n",
       "        <th>emp_id</th>\n",
       "        <th>score</th>\n",
       "        <th>month</th>\n",
       "    </tr>\n",
       "    <tr>\n",
       "        <td>3001</td>\n",
       "        <td>None</td>\n",
       "        <td>January</td>\n",
       "    </tr>\n",
       "    <tr>\n",
       "        <td>3002</td>\n",
       "        <td>None</td>\n",
       "        <td>January</td>\n",
       "    </tr>\n",
       "    <tr>\n",
       "        <td>3003</td>\n",
       "        <td>1</td>\n",
       "        <td>January</td>\n",
       "    </tr>\n",
       "    <tr>\n",
       "        <td>3004</td>\n",
       "        <td>0.9</td>\n",
       "        <td>January</td>\n",
       "    </tr>\n",
       "    <tr>\n",
       "        <td>3005</td>\n",
       "        <td>0.9</td>\n",
       "        <td>January</td>\n",
       "    </tr>\n",
       "    <tr>\n",
       "        <td>3006</td>\n",
       "        <td>1</td>\n",
       "        <td>January</td>\n",
       "    </tr>\n",
       "    <tr>\n",
       "        <td>3007</td>\n",
       "        <td>1</td>\n",
       "        <td>January</td>\n",
       "    </tr>\n",
       "    <tr>\n",
       "        <td>3008</td>\n",
       "        <td>0.8</td>\n",
       "        <td>January</td>\n",
       "    </tr>\n",
       "    <tr>\n",
       "        <td>3009</td>\n",
       "        <td>0.9</td>\n",
       "        <td>January</td>\n",
       "    </tr>\n",
       "    <tr>\n",
       "        <td>3010</td>\n",
       "        <td>1</td>\n",
       "        <td>January</td>\n",
       "    </tr>\n",
       "    <tr>\n",
       "        <td>3011</td>\n",
       "        <td>1</td>\n",
       "        <td>January</td>\n",
       "    </tr>\n",
       "    <tr>\n",
       "        <td>3012</td>\n",
       "        <td>1</td>\n",
       "        <td>January</td>\n",
       "    </tr>\n",
       "    <tr>\n",
       "        <td>3013</td>\n",
       "        <td>0.7</td>\n",
       "        <td>January</td>\n",
       "    </tr>\n",
       "    <tr>\n",
       "        <td>3014</td>\n",
       "        <td>1</td>\n",
       "        <td>January</td>\n",
       "    </tr>\n",
       "    <tr>\n",
       "        <td>3015</td>\n",
       "        <td>1</td>\n",
       "        <td>January</td>\n",
       "    </tr>\n",
       "    <tr>\n",
       "        <td>3016</td>\n",
       "        <td>0.9</td>\n",
       "        <td>January</td>\n",
       "    </tr>\n",
       "    <tr>\n",
       "        <td>3017</td>\n",
       "        <td>1</td>\n",
       "        <td>January</td>\n",
       "    </tr>\n",
       "    <tr>\n",
       "        <td>3018</td>\n",
       "        <td>1</td>\n",
       "        <td>January</td>\n",
       "    </tr>\n",
       "    <tr>\n",
       "        <td>3019</td>\n",
       "        <td>0.9</td>\n",
       "        <td>January</td>\n",
       "    </tr>\n",
       "    <tr>\n",
       "        <td>3020</td>\n",
       "        <td>0.9</td>\n",
       "        <td>January</td>\n",
       "    </tr>\n",
       "    <tr>\n",
       "        <td>3001</td>\n",
       "        <td>None</td>\n",
       "        <td>February</td>\n",
       "    </tr>\n",
       "    <tr>\n",
       "        <td>3002</td>\n",
       "        <td>None</td>\n",
       "        <td>February</td>\n",
       "    </tr>\n",
       "    <tr>\n",
       "        <td>3003</td>\n",
       "        <td>0.9</td>\n",
       "        <td>February</td>\n",
       "    </tr>\n",
       "    <tr>\n",
       "        <td>3004</td>\n",
       "        <td>1</td>\n",
       "        <td>February</td>\n",
       "    </tr>\n",
       "    <tr>\n",
       "        <td>3005</td>\n",
       "        <td>0.8</td>\n",
       "        <td>February</td>\n",
       "    </tr>\n",
       "    <tr>\n",
       "        <td>3006</td>\n",
       "        <td>1</td>\n",
       "        <td>February</td>\n",
       "    </tr>\n",
       "    <tr>\n",
       "        <td>3007</td>\n",
       "        <td>0.9</td>\n",
       "        <td>February</td>\n",
       "    </tr>\n",
       "    <tr>\n",
       "        <td>3008</td>\n",
       "        <td>1</td>\n",
       "        <td>February</td>\n",
       "    </tr>\n",
       "    <tr>\n",
       "        <td>3009</td>\n",
       "        <td>0.9</td>\n",
       "        <td>February</td>\n",
       "    </tr>\n",
       "    <tr>\n",
       "        <td>3010</td>\n",
       "        <td>1</td>\n",
       "        <td>February</td>\n",
       "    </tr>\n",
       "    <tr>\n",
       "        <td>3011</td>\n",
       "        <td>0.8</td>\n",
       "        <td>February</td>\n",
       "    </tr>\n",
       "    <tr>\n",
       "        <td>3012</td>\n",
       "        <td>0.8</td>\n",
       "        <td>February</td>\n",
       "    </tr>\n",
       "    <tr>\n",
       "        <td>3013</td>\n",
       "        <td>0.9</td>\n",
       "        <td>February</td>\n",
       "    </tr>\n",
       "    <tr>\n",
       "        <td>3014</td>\n",
       "        <td>1</td>\n",
       "        <td>February</td>\n",
       "    </tr>\n",
       "    <tr>\n",
       "        <td>3015</td>\n",
       "        <td>0.9</td>\n",
       "        <td>February</td>\n",
       "    </tr>\n",
       "    <tr>\n",
       "        <td>3016</td>\n",
       "        <td>0.8</td>\n",
       "        <td>February</td>\n",
       "    </tr>\n",
       "    <tr>\n",
       "        <td>3017</td>\n",
       "        <td>1</td>\n",
       "        <td>February</td>\n",
       "    </tr>\n",
       "    <tr>\n",
       "        <td>3018</td>\n",
       "        <td>1</td>\n",
       "        <td>February</td>\n",
       "    </tr>\n",
       "    <tr>\n",
       "        <td>3019</td>\n",
       "        <td>1</td>\n",
       "        <td>February</td>\n",
       "    </tr>\n",
       "    <tr>\n",
       "        <td>3020</td>\n",
       "        <td>1</td>\n",
       "        <td>February</td>\n",
       "    </tr>\n",
       "    <tr>\n",
       "        <td>3001</td>\n",
       "        <td>None</td>\n",
       "        <td>March</td>\n",
       "    </tr>\n",
       "    <tr>\n",
       "        <td>3002</td>\n",
       "        <td>None</td>\n",
       "        <td>March</td>\n",
       "    </tr>\n",
       "    <tr>\n",
       "        <td>3003</td>\n",
       "        <td>1</td>\n",
       "        <td>March</td>\n",
       "    </tr>\n",
       "    <tr>\n",
       "        <td>3004</td>\n",
       "        <td>0.8</td>\n",
       "        <td>March</td>\n",
       "    </tr>\n",
       "    <tr>\n",
       "        <td>3005</td>\n",
       "        <td>1</td>\n",
       "        <td>March</td>\n",
       "    </tr>\n",
       "    <tr>\n",
       "        <td>3006</td>\n",
       "        <td>0.8</td>\n",
       "        <td>March</td>\n",
       "    </tr>\n",
       "    <tr>\n",
       "        <td>3007</td>\n",
       "        <td>0.8</td>\n",
       "        <td>March</td>\n",
       "    </tr>\n",
       "    <tr>\n",
       "        <td>3008</td>\n",
       "        <td>1</td>\n",
       "        <td>March</td>\n",
       "    </tr>\n",
       "    <tr>\n",
       "        <td>3009</td>\n",
       "        <td>1</td>\n",
       "        <td>March</td>\n",
       "    </tr>\n",
       "    <tr>\n",
       "        <td>3010</td>\n",
       "        <td>1</td>\n",
       "        <td>March</td>\n",
       "    </tr>\n",
       "    <tr>\n",
       "        <td>3011</td>\n",
       "        <td>0.9</td>\n",
       "        <td>March</td>\n",
       "    </tr>\n",
       "    <tr>\n",
       "        <td>3012</td>\n",
       "        <td>1</td>\n",
       "        <td>March</td>\n",
       "    </tr>\n",
       "    <tr>\n",
       "        <td>3013</td>\n",
       "        <td>1</td>\n",
       "        <td>March</td>\n",
       "    </tr>\n",
       "    <tr>\n",
       "        <td>3014</td>\n",
       "        <td>1</td>\n",
       "        <td>March</td>\n",
       "    </tr>\n",
       "    <tr>\n",
       "        <td>3015</td>\n",
       "        <td>0.8</td>\n",
       "        <td>March</td>\n",
       "    </tr>\n",
       "    <tr>\n",
       "        <td>3016</td>\n",
       "        <td>1</td>\n",
       "        <td>March</td>\n",
       "    </tr>\n",
       "    <tr>\n",
       "        <td>3017</td>\n",
       "        <td>1</td>\n",
       "        <td>March</td>\n",
       "    </tr>\n",
       "    <tr>\n",
       "        <td>3018</td>\n",
       "        <td>0.9</td>\n",
       "        <td>March</td>\n",
       "    </tr>\n",
       "    <tr>\n",
       "        <td>3019</td>\n",
       "        <td>1</td>\n",
       "        <td>March</td>\n",
       "    </tr>\n",
       "    <tr>\n",
       "        <td>3020</td>\n",
       "        <td>1</td>\n",
       "        <td>March</td>\n",
       "    </tr>\n",
       "</table>"
      ],
      "text/plain": [
       "[(3001, None, 'January'),\n",
       " (3002, None, 'January'),\n",
       " (3003, 1, 'January'),\n",
       " (3004, 0.9, 'January'),\n",
       " (3005, 0.9, 'January'),\n",
       " (3006, 1, 'January'),\n",
       " (3007, 1, 'January'),\n",
       " (3008, 0.8, 'January'),\n",
       " (3009, 0.9, 'January'),\n",
       " (3010, 1, 'January'),\n",
       " (3011, 1, 'January'),\n",
       " (3012, 1, 'January'),\n",
       " (3013, 0.7, 'January'),\n",
       " (3014, 1, 'January'),\n",
       " (3015, 1, 'January'),\n",
       " (3016, 0.9, 'January'),\n",
       " (3017, 1, 'January'),\n",
       " (3018, 1, 'January'),\n",
       " (3019, 0.9, 'January'),\n",
       " (3020, 0.9, 'January'),\n",
       " (3001, None, 'February'),\n",
       " (3002, None, 'February'),\n",
       " (3003, 0.9, 'February'),\n",
       " (3004, 1, 'February'),\n",
       " (3005, 0.8, 'February'),\n",
       " (3006, 1, 'February'),\n",
       " (3007, 0.9, 'February'),\n",
       " (3008, 1, 'February'),\n",
       " (3009, 0.9, 'February'),\n",
       " (3010, 1, 'February'),\n",
       " (3011, 0.8, 'February'),\n",
       " (3012, 0.8, 'February'),\n",
       " (3013, 0.9, 'February'),\n",
       " (3014, 1, 'February'),\n",
       " (3015, 0.9, 'February'),\n",
       " (3016, 0.8, 'February'),\n",
       " (3017, 1, 'February'),\n",
       " (3018, 1, 'February'),\n",
       " (3019, 1, 'February'),\n",
       " (3020, 1, 'February'),\n",
       " (3001, None, 'March'),\n",
       " (3002, None, 'March'),\n",
       " (3003, 1, 'March'),\n",
       " (3004, 0.8, 'March'),\n",
       " (3005, 1, 'March'),\n",
       " (3006, 0.8, 'March'),\n",
       " (3007, 0.8, 'March'),\n",
       " (3008, 1, 'March'),\n",
       " (3009, 1, 'March'),\n",
       " (3010, 1, 'March'),\n",
       " (3011, 0.9, 'March'),\n",
       " (3012, 1, 'March'),\n",
       " (3013, 1, 'March'),\n",
       " (3014, 1, 'March'),\n",
       " (3015, 0.8, 'March'),\n",
       " (3016, 1, 'March'),\n",
       " (3017, 1, 'March'),\n",
       " (3018, 0.9, 'March'),\n",
       " (3019, 1, 'March'),\n",
       " (3020, 1, 'March')]"
      ]
     },
     "execution_count": 7,
     "metadata": {},
     "output_type": "execute_result"
    }
   ],
   "source": [
    "%%sql \n",
    "SELECT * \n",
    "FROM performance;"
   ]
  },
  {
   "cell_type": "markdown",
   "metadata": {},
   "source": [
    "### General Inforamtion\n",
    "\n",
    "The database dummies as a company's HR database holding various information about employees. The tables hold information as follows:\n",
    "\n",
    "- ***`employee_details`*** - holds basic information about the employees. \n",
    "- ***`salaries`*** - holds each employee's salary information. \n",
    "- ***`department`*** - holds information about heads of department and the department managed by each of them. \n",
    "- ***`performance`*** - holds information about the monthly performance score of each employee. This table however contains information for only January to March."
   ]
  },
  {
   "cell_type": "markdown",
   "metadata": {},
   "source": [
    "## Queries Queries Queries!!!\n",
    "Write queries to returns the different result sets shown below."
   ]
  },
  {
   "cell_type": "markdown",
   "metadata": {},
   "source": [
    "**Sort the *`employee_details`* table by the *`firstname`* column and return the first ten records.**"
   ]
  },
  {
   "cell_type": "code",
   "execution_count": 8,
   "metadata": {},
   "outputs": [
    {
     "name": "stdout",
     "output_type": "stream",
     "text": [
      " * sqlite:///employee.db\n",
      "Done.\n"
     ]
    },
    {
     "data": {
      "text/html": [
       "<table>\n",
       "    <tr>\n",
       "        <th>emp_id</th>\n",
       "        <th>firstname</th>\n",
       "        <th>lastname</th>\n",
       "        <th>job_role</th>\n",
       "        <th>manager_id</th>\n",
       "    </tr>\n",
       "    <tr>\n",
       "        <td>3020</td>\n",
       "        <td>Azeez</td>\n",
       "        <td>Hakeem</td>\n",
       "        <td>Cleaner</td>\n",
       "        <td>3003</td>\n",
       "    </tr>\n",
       "    <tr>\n",
       "        <td>3002</td>\n",
       "        <td>Bernard</td>\n",
       "        <td>Williams</td>\n",
       "        <td>CTO</td>\n",
       "        <td>None</td>\n",
       "    </tr>\n",
       "    <tr>\n",
       "        <td>3012</td>\n",
       "        <td>Brenda</td>\n",
       "        <td>Marcus</td>\n",
       "        <td>Driver</td>\n",
       "        <td>3004</td>\n",
       "    </tr>\n",
       "    <tr>\n",
       "        <td>3011</td>\n",
       "        <td>Carlos</td>\n",
       "        <td>Junior</td>\n",
       "        <td>Data Analyst</td>\n",
       "        <td>3002</td>\n",
       "    </tr>\n",
       "    <tr>\n",
       "        <td>3007</td>\n",
       "        <td>Caroline</td>\n",
       "        <td>Victor</td>\n",
       "        <td>Accountant</td>\n",
       "        <td>3005</td>\n",
       "    </tr>\n",
       "    <tr>\n",
       "        <td>3009</td>\n",
       "        <td>Dave</td>\n",
       "        <td>Roberts</td>\n",
       "        <td>Software Developer</td>\n",
       "        <td>3002</td>\n",
       "    </tr>\n",
       "    <tr>\n",
       "        <td>3006</td>\n",
       "        <td>Edward</td>\n",
       "        <td>Peters</td>\n",
       "        <td>Business Analyst</td>\n",
       "        <td>3005</td>\n",
       "    </tr>\n",
       "    <tr>\n",
       "        <td>3005</td>\n",
       "        <td>Evelyn</td>\n",
       "        <td>Donald</td>\n",
       "        <td>Financial Analyst</td>\n",
       "        <td>3001</td>\n",
       "    </tr>\n",
       "    <tr>\n",
       "        <td>3018</td>\n",
       "        <td>Gareth</td>\n",
       "        <td>Dennis</td>\n",
       "        <td>Front Desk Officer</td>\n",
       "        <td>3003</td>\n",
       "    </tr>\n",
       "    <tr>\n",
       "        <td>3016</td>\n",
       "        <td>Helen</td>\n",
       "        <td>Gilbert</td>\n",
       "        <td>Warehouse Staff</td>\n",
       "        <td>3004</td>\n",
       "    </tr>\n",
       "</table>"
      ],
      "text/plain": [
       "[(3020, 'Azeez', 'Hakeem', 'Cleaner', 3003),\n",
       " (3002, 'Bernard', 'Williams', 'CTO', None),\n",
       " (3012, 'Brenda', 'Marcus', 'Driver', 3004),\n",
       " (3011, 'Carlos', 'Junior', 'Data Analyst', 3002),\n",
       " (3007, 'Caroline', 'Victor', 'Accountant', 3005),\n",
       " (3009, 'Dave', 'Roberts', 'Software Developer', 3002),\n",
       " (3006, 'Edward', 'Peters', 'Business Analyst', 3005),\n",
       " (3005, 'Evelyn', 'Donald', 'Financial Analyst', 3001),\n",
       " (3018, 'Gareth', 'Dennis', 'Front Desk Officer', 3003),\n",
       " (3016, 'Helen', 'Gilbert', 'Warehouse Staff', 3004)]"
      ]
     },
     "execution_count": 8,
     "metadata": {},
     "output_type": "execute_result"
    }
   ],
   "source": [
    "%%sql\n",
    "SELECT *\n",
    "FROM employee_details\n",
    "ORDER BY firstname\n",
    "LIMIT 10;"
   ]
  },
  {
   "cell_type": "markdown",
   "metadata": {},
   "source": [
    "**What is the number of unique job roles the company has?**"
   ]
  },
  {
   "cell_type": "code",
   "execution_count": 9,
   "metadata": {},
   "outputs": [
    {
     "name": "stdout",
     "output_type": "stream",
     "text": [
      " * sqlite:///employee.db\n",
      "Done.\n"
     ]
    },
    {
     "data": {
      "text/html": [
       "<table>\n",
       "    <tr>\n",
       "        <th>no_of_job_roles</th>\n",
       "    </tr>\n",
       "    <tr>\n",
       "        <td>16</td>\n",
       "    </tr>\n",
       "</table>"
      ],
      "text/plain": [
       "[(16,)]"
      ]
     },
     "execution_count": 9,
     "metadata": {},
     "output_type": "execute_result"
    }
   ],
   "source": [
    "%%sql\n",
    "SELECT COUNT(DISTINCT(job_role)) AS 'no_of_job_roles'\n",
    "FROM employee_details;"
   ]
  },
  {
   "cell_type": "markdown",
   "metadata": {},
   "source": [
    "**Return records that contain the following firstnames: `Katty`, `Carlos`, `Wilberforce` and `Steffany`.**"
   ]
  },
  {
   "cell_type": "code",
   "execution_count": 10,
   "metadata": {},
   "outputs": [
    {
     "name": "stdout",
     "output_type": "stream",
     "text": [
      " * sqlite:///employee.db\n",
      "Done.\n"
     ]
    },
    {
     "data": {
      "text/html": [
       "<table>\n",
       "    <tr>\n",
       "        <th>emp_id</th>\n",
       "        <th>firstname</th>\n",
       "        <th>lastname</th>\n",
       "        <th>job_role</th>\n",
       "        <th>manager_id</th>\n",
       "    </tr>\n",
       "    <tr>\n",
       "        <td>3004</td>\n",
       "        <td>Katty</td>\n",
       "        <td>Harris</td>\n",
       "        <td>Admin. Manager</td>\n",
       "        <td>3001</td>\n",
       "    </tr>\n",
       "    <tr>\n",
       "        <td>3011</td>\n",
       "        <td>Carlos</td>\n",
       "        <td>Junior</td>\n",
       "        <td>Data Analyst</td>\n",
       "        <td>3002</td>\n",
       "    </tr>\n",
       "    <tr>\n",
       "        <td>3014</td>\n",
       "        <td>Wilberforce</td>\n",
       "        <td>Freeman</td>\n",
       "        <td>Dispatch Rider</td>\n",
       "        <td>3004</td>\n",
       "    </tr>\n",
       "    <tr>\n",
       "        <td>3015</td>\n",
       "        <td>Steffany</td>\n",
       "        <td>Baker</td>\n",
       "        <td>Dispatch Rider</td>\n",
       "        <td>3004</td>\n",
       "    </tr>\n",
       "</table>"
      ],
      "text/plain": [
       "[(3004, 'Katty', 'Harris', 'Admin. Manager', 3001),\n",
       " (3011, 'Carlos', 'Junior', 'Data Analyst', 3002),\n",
       " (3014, 'Wilberforce', 'Freeman', 'Dispatch Rider', 3004),\n",
       " (3015, 'Steffany', 'Baker', 'Dispatch Rider', 3004)]"
      ]
     },
     "execution_count": 10,
     "metadata": {},
     "output_type": "execute_result"
    }
   ],
   "source": [
    "%%sql\n",
    "SELECT *\n",
    "FROM employee_details\n",
    "WHERE firstname IN ('Katty', 'Carlos', 'Wilberforce', 'Steffany');"
   ]
  },
  {
   "cell_type": "code",
   "execution_count": 11,
   "metadata": {},
   "outputs": [
    {
     "name": "stdout",
     "output_type": "stream",
     "text": [
      " * sqlite:///employee.db\n",
      "Done.\n"
     ]
    },
    {
     "data": {
      "text/html": [
       "<table>\n",
       "    <tr>\n",
       "        <th>dept_id</th>\n",
       "        <th>name</th>\n",
       "        <th>manager_id</th>\n",
       "    </tr>\n",
       "    <tr>\n",
       "        <td>7001</td>\n",
       "        <td>Admin</td>\n",
       "        <td>3003</td>\n",
       "    </tr>\n",
       "    <tr>\n",
       "        <td>7002</td>\n",
       "        <td>Logistics</td>\n",
       "        <td>3004</td>\n",
       "    </tr>\n",
       "    <tr>\n",
       "        <td>7003</td>\n",
       "        <td>Finance</td>\n",
       "        <td>3005</td>\n",
       "    </tr>\n",
       "    <tr>\n",
       "        <td>7004</td>\n",
       "        <td>IT</td>\n",
       "        <td>3002</td>\n",
       "    </tr>\n",
       "</table>"
      ],
      "text/plain": [
       "[(7001, 'Admin', 3003),\n",
       " (7002, 'Logistics', 3004),\n",
       " (7003, 'Finance', 3005),\n",
       " (7004, 'IT', 3002)]"
      ]
     },
     "execution_count": 11,
     "metadata": {},
     "output_type": "execute_result"
    }
   ],
   "source": [
    "%%sql\n",
    "SELECT *\n",
    "FROM department;"
   ]
  },
  {
   "cell_type": "code",
   "execution_count": 12,
   "metadata": {},
   "outputs": [
    {
     "name": "stdout",
     "output_type": "stream",
     "text": [
      " * sqlite:///employee.db\n",
      "Done.\n"
     ]
    },
    {
     "data": {
      "text/html": [
       "<table>\n",
       "    <tr>\n",
       "        <th>emp_id</th>\n",
       "        <th>firstname</th>\n",
       "        <th>lastname</th>\n",
       "        <th>job_role</th>\n",
       "        <th>manager_id</th>\n",
       "    </tr>\n",
       "    <tr>\n",
       "        <td>3001</td>\n",
       "        <td>Smith</td>\n",
       "        <td>Daniel</td>\n",
       "        <td>CEO</td>\n",
       "        <td>None</td>\n",
       "    </tr>\n",
       "    <tr>\n",
       "        <td>3002</td>\n",
       "        <td>Bernard</td>\n",
       "        <td>Williams</td>\n",
       "        <td>CTO</td>\n",
       "        <td>None</td>\n",
       "    </tr>\n",
       "    <tr>\n",
       "        <td>3003</td>\n",
       "        <td>Kane</td>\n",
       "        <td>Woods</td>\n",
       "        <td>Logistics Manager</td>\n",
       "        <td>3001</td>\n",
       "    </tr>\n",
       "    <tr>\n",
       "        <td>3004</td>\n",
       "        <td>Katty</td>\n",
       "        <td>Harris</td>\n",
       "        <td>Admin. Manager</td>\n",
       "        <td>3001</td>\n",
       "    </tr>\n",
       "    <tr>\n",
       "        <td>3005</td>\n",
       "        <td>Evelyn</td>\n",
       "        <td>Donald</td>\n",
       "        <td>Financial Analyst</td>\n",
       "        <td>3001</td>\n",
       "    </tr>\n",
       "</table>"
      ],
      "text/plain": [
       "[(3001, 'Smith', 'Daniel', 'CEO', None),\n",
       " (3002, 'Bernard', 'Williams', 'CTO', None),\n",
       " (3003, 'Kane', 'Woods', 'Logistics Manager', 3001),\n",
       " (3004, 'Katty', 'Harris', 'Admin. Manager', 3001),\n",
       " (3005, 'Evelyn', 'Donald', 'Financial Analyst', 3001)]"
      ]
     },
     "execution_count": 12,
     "metadata": {},
     "output_type": "execute_result"
    }
   ],
   "source": [
    "%%sql\n",
    "SELECT *\n",
    "FROM employee_details\n",
    "LIMIT 5;"
   ]
  },
  {
   "cell_type": "markdown",
   "metadata": {},
   "source": [
    "**What are the names of the Department Heads, and the Departments they head?**"
   ]
  },
  {
   "cell_type": "code",
   "execution_count": 13,
   "metadata": {},
   "outputs": [
    {
     "name": "stdout",
     "output_type": "stream",
     "text": [
      " * sqlite:///employee.db\n",
      "Done.\n"
     ]
    },
    {
     "data": {
      "text/html": [
       "<table>\n",
       "    <tr>\n",
       "        <th>emp_id</th>\n",
       "        <th>fullname</th>\n",
       "        <th>name</th>\n",
       "    </tr>\n",
       "    <tr>\n",
       "        <td>3003</td>\n",
       "        <td>Kane Woods</td>\n",
       "        <td>Admin</td>\n",
       "    </tr>\n",
       "    <tr>\n",
       "        <td>3004</td>\n",
       "        <td>Katty Harris</td>\n",
       "        <td>Logistics</td>\n",
       "    </tr>\n",
       "    <tr>\n",
       "        <td>3005</td>\n",
       "        <td>Evelyn Donald</td>\n",
       "        <td>Finance</td>\n",
       "    </tr>\n",
       "    <tr>\n",
       "        <td>3002</td>\n",
       "        <td>Bernard Williams</td>\n",
       "        <td>IT</td>\n",
       "    </tr>\n",
       "</table>"
      ],
      "text/plain": [
       "[(3003, 'Kane Woods', 'Admin'),\n",
       " (3004, 'Katty Harris', 'Logistics'),\n",
       " (3005, 'Evelyn Donald', 'Finance'),\n",
       " (3002, 'Bernard Williams', 'IT')]"
      ]
     },
     "execution_count": 13,
     "metadata": {},
     "output_type": "execute_result"
    }
   ],
   "source": [
    "%%sql \n",
    "SELECT em.emp_id, em.firstname || ' ' || em.lastname AS fullname, dp.name\n",
    "FROM employee_details AS em INNER JOIN department AS dp\n",
    "ON em.emp_id = dp.manager_id\n",
    "WHERE emp_id BETWEEN 3001 AND 3005;"
   ]
  },
  {
   "cell_type": "markdown",
   "metadata": {},
   "source": [
    "**What is the *`fullname`* and  *`job_role`* of the Manager of the *`IT`* Department?**"
   ]
  },
  {
   "cell_type": "code",
   "execution_count": 14,
   "metadata": {},
   "outputs": [
    {
     "name": "stdout",
     "output_type": "stream",
     "text": [
      " * sqlite:///employee.db\n",
      "Done.\n"
     ]
    },
    {
     "data": {
      "text/html": [
       "<table>\n",
       "    <tr>\n",
       "        <th>emp_id</th>\n",
       "        <th>fullname</th>\n",
       "        <th>name</th>\n",
       "        <th>job_role</th>\n",
       "    </tr>\n",
       "    <tr>\n",
       "        <td>3002</td>\n",
       "        <td>Bernard Williams</td>\n",
       "        <td>IT</td>\n",
       "        <td>CTO</td>\n",
       "    </tr>\n",
       "</table>"
      ],
      "text/plain": [
       "[(3002, 'Bernard Williams', 'IT', 'CTO')]"
      ]
     },
     "execution_count": 14,
     "metadata": {},
     "output_type": "execute_result"
    }
   ],
   "source": [
    "%%sql\n",
    "SELECT em.emp_id, em.firstname || ' ' || em.lastname AS fullname, dp.name, em.job_role \n",
    "FROM employee_details AS em INNER JOIN department dp\n",
    "ON em.emp_id = dp.manager_id\n",
    "WHERE emp_id == 3002;"
   ]
  },
  {
   "cell_type": "code",
   "execution_count": 15,
   "metadata": {},
   "outputs": [
    {
     "name": "stdout",
     "output_type": "stream",
     "text": [
      " * sqlite:///employee.db\n",
      "Done.\n"
     ]
    },
    {
     "data": {
      "text/html": [
       "<table>\n",
       "    <tr>\n",
       "        <th>emp_id</th>\n",
       "        <th>salary</th>\n",
       "    </tr>\n",
       "    <tr>\n",
       "        <td>3001</td>\n",
       "        <td>None</td>\n",
       "    </tr>\n",
       "    <tr>\n",
       "        <td>3002</td>\n",
       "        <td>None</td>\n",
       "    </tr>\n",
       "    <tr>\n",
       "        <td>3003</td>\n",
       "        <td>400000</td>\n",
       "    </tr>\n",
       "    <tr>\n",
       "        <td>3004</td>\n",
       "        <td>400000</td>\n",
       "    </tr>\n",
       "    <tr>\n",
       "        <td>3005</td>\n",
       "        <td>450000</td>\n",
       "    </tr>\n",
       "</table>"
      ],
      "text/plain": [
       "[(3001, None), (3002, None), (3003, 400000), (3004, 400000), (3005, 450000)]"
      ]
     },
     "execution_count": 15,
     "metadata": {},
     "output_type": "execute_result"
    }
   ],
   "source": [
    "%%sql\n",
    "SELECT * \n",
    "FROM salaries\n",
    "LIMIT 5;"
   ]
  },
  {
   "cell_type": "markdown",
   "metadata": {},
   "source": [
    "**How much do(es) the highest earning non-management staff(s) get?**"
   ]
  },
  {
   "cell_type": "code",
   "execution_count": 16,
   "metadata": {},
   "outputs": [
    {
     "name": "stdout",
     "output_type": "stream",
     "text": [
      " * sqlite:///employee.db\n",
      "Done.\n"
     ]
    },
    {
     "data": {
      "text/html": [
       "<table>\n",
       "    <tr>\n",
       "        <th>max_salary</th>\n",
       "    </tr>\n",
       "    <tr>\n",
       "        <td>400000</td>\n",
       "    </tr>\n",
       "</table>"
      ],
      "text/plain": [
       "[(400000,)]"
      ]
     },
     "execution_count": 16,
     "metadata": {},
     "output_type": "execute_result"
    }
   ],
   "source": [
    "%%sql\n",
    "SELECT MAX(salary) AS max_salary\n",
    "FROM salaries\n",
    "WHERE salary < 450000;"
   ]
  },
  {
   "cell_type": "markdown",
   "metadata": {},
   "source": [
    "**How many employees earn more than the average salary?**"
   ]
  },
  {
   "cell_type": "code",
   "execution_count": 17,
   "metadata": {},
   "outputs": [
    {
     "name": "stdout",
     "output_type": "stream",
     "text": [
      " * sqlite:///employee.db\n",
      "Done.\n"
     ]
    },
    {
     "data": {
      "text/html": [
       "<table>\n",
       "    <tr>\n",
       "        <th>AVG(salary)</th>\n",
       "    </tr>\n",
       "    <tr>\n",
       "        <td>255000.0</td>\n",
       "    </tr>\n",
       "</table>"
      ],
      "text/plain": [
       "[(255000.0,)]"
      ]
     },
     "execution_count": 17,
     "metadata": {},
     "output_type": "execute_result"
    }
   ],
   "source": [
    "%%sql\n",
    "SELECT AVG(salary)\n",
    "FROM salaries;"
   ]
  },
  {
   "cell_type": "code",
   "execution_count": 18,
   "metadata": {},
   "outputs": [
    {
     "name": "stdout",
     "output_type": "stream",
     "text": [
      " * sqlite:///employee.db\n",
      "Done.\n"
     ]
    },
    {
     "data": {
      "text/html": [
       "<table>\n",
       "    <tr>\n",
       "        <th>above_avg_earners</th>\n",
       "    </tr>\n",
       "    <tr>\n",
       "        <td>9</td>\n",
       "    </tr>\n",
       "</table>"
      ],
      "text/plain": [
       "[(9,)]"
      ]
     },
     "execution_count": 18,
     "metadata": {},
     "output_type": "execute_result"
    }
   ],
   "source": [
    "%%sql\n",
    "SELECT COUNT(salary) AS above_avg_earners\n",
    "FROM salaries\n",
    "WHERE salary > (SELECT AVG(salary) FROM salaries);"
   ]
  },
  {
   "cell_type": "code",
   "execution_count": 19,
   "metadata": {},
   "outputs": [
    {
     "name": "stdout",
     "output_type": "stream",
     "text": [
      " * sqlite:///employee.db\n",
      "Done.\n"
     ]
    },
    {
     "data": {
      "text/html": [
       "<table>\n",
       "    <tr>\n",
       "        <th>dept_id</th>\n",
       "        <th>name</th>\n",
       "        <th>manager_id</th>\n",
       "    </tr>\n",
       "    <tr>\n",
       "        <td>7001</td>\n",
       "        <td>Admin</td>\n",
       "        <td>3003</td>\n",
       "    </tr>\n",
       "    <tr>\n",
       "        <td>7002</td>\n",
       "        <td>Logistics</td>\n",
       "        <td>3004</td>\n",
       "    </tr>\n",
       "    <tr>\n",
       "        <td>7003</td>\n",
       "        <td>Finance</td>\n",
       "        <td>3005</td>\n",
       "    </tr>\n",
       "    <tr>\n",
       "        <td>7004</td>\n",
       "        <td>IT</td>\n",
       "        <td>3002</td>\n",
       "    </tr>\n",
       "</table>"
      ],
      "text/plain": [
       "[(7001, 'Admin', 3003),\n",
       " (7002, 'Logistics', 3004),\n",
       " (7003, 'Finance', 3005),\n",
       " (7004, 'IT', 3002)]"
      ]
     },
     "execution_count": 19,
     "metadata": {},
     "output_type": "execute_result"
    }
   ],
   "source": [
    "%%sql \n",
    "SELECT * \n",
    "FROM department\n",
    "LIMIT 5;"
   ]
  },
  {
   "cell_type": "code",
   "execution_count": 20,
   "metadata": {},
   "outputs": [
    {
     "name": "stdout",
     "output_type": "stream",
     "text": [
      " * sqlite:///employee.db\n",
      "Done.\n"
     ]
    },
    {
     "data": {
      "text/html": [
       "<table>\n",
       "    <tr>\n",
       "        <th>emp_id</th>\n",
       "        <th>score</th>\n",
       "        <th>month</th>\n",
       "    </tr>\n",
       "    <tr>\n",
       "        <td>3001</td>\n",
       "        <td>None</td>\n",
       "        <td>January</td>\n",
       "    </tr>\n",
       "    <tr>\n",
       "        <td>3002</td>\n",
       "        <td>None</td>\n",
       "        <td>January</td>\n",
       "    </tr>\n",
       "    <tr>\n",
       "        <td>3003</td>\n",
       "        <td>1</td>\n",
       "        <td>January</td>\n",
       "    </tr>\n",
       "    <tr>\n",
       "        <td>3004</td>\n",
       "        <td>0.9</td>\n",
       "        <td>January</td>\n",
       "    </tr>\n",
       "    <tr>\n",
       "        <td>3005</td>\n",
       "        <td>0.9</td>\n",
       "        <td>January</td>\n",
       "    </tr>\n",
       "</table>"
      ],
      "text/plain": [
       "[(3001, None, 'January'),\n",
       " (3002, None, 'January'),\n",
       " (3003, 1, 'January'),\n",
       " (3004, 0.9, 'January'),\n",
       " (3005, 0.9, 'January')]"
      ]
     },
     "execution_count": 20,
     "metadata": {},
     "output_type": "execute_result"
    }
   ],
   "source": [
    "%%sql \n",
    "SELECT * \n",
    "FROM performance\n",
    "LIMIT 5;"
   ]
  },
  {
   "cell_type": "markdown",
   "metadata": {},
   "source": [
    "**What *`department`* has the most staff?**"
   ]
  },
  {
   "cell_type": "code",
   "execution_count": 21,
   "metadata": {},
   "outputs": [
    {
     "name": "stdout",
     "output_type": "stream",
     "text": [
      " * sqlite:///employee.db\n",
      "Done.\n"
     ]
    },
    {
     "data": {
      "text/html": [
       "<table>\n",
       "    <tr>\n",
       "        <th>name</th>\n",
       "        <th>no_of_staffs</th>\n",
       "    </tr>\n",
       "    <tr>\n",
       "        <td>Admin</td>\n",
       "        <td>4</td>\n",
       "    </tr>\n",
       "</table>"
      ],
      "text/plain": [
       "[('Admin', 4)]"
      ]
     },
     "execution_count": 21,
     "metadata": {},
     "output_type": "execute_result"
    }
   ],
   "source": [
    "%%sql\n",
    "SELECT dp.name, COUNT(em.emp_id) AS no_of_staffs\n",
    "FROM department AS dp INNER JOIN employee_details AS em\n",
    "ON dp.manager_id = em.emp_id"
   ]
  },
  {
   "cell_type": "code",
   "execution_count": 22,
   "metadata": {},
   "outputs": [
    {
     "name": "stdout",
     "output_type": "stream",
     "text": [
      " * sqlite:///employee.db\n",
      "Done.\n"
     ]
    },
    {
     "data": {
      "text/html": [
       "<table>\n",
       "    <tr>\n",
       "        <th>emp_id</th>\n",
       "        <th>salary</th>\n",
       "    </tr>\n",
       "    <tr>\n",
       "        <td>3001</td>\n",
       "        <td>None</td>\n",
       "    </tr>\n",
       "    <tr>\n",
       "        <td>3002</td>\n",
       "        <td>None</td>\n",
       "    </tr>\n",
       "    <tr>\n",
       "        <td>3003</td>\n",
       "        <td>400000</td>\n",
       "    </tr>\n",
       "    <tr>\n",
       "        <td>3004</td>\n",
       "        <td>400000</td>\n",
       "    </tr>\n",
       "    <tr>\n",
       "        <td>3005</td>\n",
       "        <td>450000</td>\n",
       "    </tr>\n",
       "</table>"
      ],
      "text/plain": [
       "[(3001, None), (3002, None), (3003, 400000), (3004, 400000), (3005, 450000)]"
      ]
     },
     "execution_count": 22,
     "metadata": {},
     "output_type": "execute_result"
    }
   ],
   "source": [
    "%%sql\n",
    "SELECT *\n",
    "FROM salaries\n",
    "LIMIT 5;"
   ]
  },
  {
   "cell_type": "code",
   "execution_count": 23,
   "metadata": {},
   "outputs": [
    {
     "name": "stdout",
     "output_type": "stream",
     "text": [
      " * sqlite:///employee.db\n",
      "Done.\n"
     ]
    },
    {
     "data": {
      "text/html": [
       "<table>\n",
       "    <tr>\n",
       "        <th>emp_id</th>\n",
       "        <th>firstname</th>\n",
       "        <th>lastname</th>\n",
       "        <th>job_role</th>\n",
       "        <th>manager_id</th>\n",
       "    </tr>\n",
       "    <tr>\n",
       "        <td>3001</td>\n",
       "        <td>Smith</td>\n",
       "        <td>Daniel</td>\n",
       "        <td>CEO</td>\n",
       "        <td>None</td>\n",
       "    </tr>\n",
       "    <tr>\n",
       "        <td>3002</td>\n",
       "        <td>Bernard</td>\n",
       "        <td>Williams</td>\n",
       "        <td>CTO</td>\n",
       "        <td>None</td>\n",
       "    </tr>\n",
       "    <tr>\n",
       "        <td>3003</td>\n",
       "        <td>Kane</td>\n",
       "        <td>Woods</td>\n",
       "        <td>Logistics Manager</td>\n",
       "        <td>3001</td>\n",
       "    </tr>\n",
       "    <tr>\n",
       "        <td>3004</td>\n",
       "        <td>Katty</td>\n",
       "        <td>Harris</td>\n",
       "        <td>Admin. Manager</td>\n",
       "        <td>3001</td>\n",
       "    </tr>\n",
       "    <tr>\n",
       "        <td>3005</td>\n",
       "        <td>Evelyn</td>\n",
       "        <td>Donald</td>\n",
       "        <td>Financial Analyst</td>\n",
       "        <td>3001</td>\n",
       "    </tr>\n",
       "</table>"
      ],
      "text/plain": [
       "[(3001, 'Smith', 'Daniel', 'CEO', None),\n",
       " (3002, 'Bernard', 'Williams', 'CTO', None),\n",
       " (3003, 'Kane', 'Woods', 'Logistics Manager', 3001),\n",
       " (3004, 'Katty', 'Harris', 'Admin. Manager', 3001),\n",
       " (3005, 'Evelyn', 'Donald', 'Financial Analyst', 3001)]"
      ]
     },
     "execution_count": 23,
     "metadata": {},
     "output_type": "execute_result"
    }
   ],
   "source": [
    "%%sql\n",
    "SELECT *\n",
    "FROM employee_details\n",
    "LIMIT 5;"
   ]
  },
  {
   "cell_type": "markdown",
   "metadata": {},
   "source": [
    "**How much does a *`Dispatch Rider`* earn?**"
   ]
  },
  {
   "cell_type": "code",
   "execution_count": 24,
   "metadata": {},
   "outputs": [
    {
     "name": "stdout",
     "output_type": "stream",
     "text": [
      " * sqlite:///employee.db\n",
      "Done.\n"
     ]
    },
    {
     "data": {
      "text/html": [
       "<table>\n",
       "    <tr>\n",
       "        <th>job_role</th>\n",
       "        <th>salary</th>\n",
       "    </tr>\n",
       "    <tr>\n",
       "        <td>Dispatch Rider</td>\n",
       "        <td>150000</td>\n",
       "    </tr>\n",
       "    <tr>\n",
       "        <td>Dispatch Rider</td>\n",
       "        <td>150000</td>\n",
       "    </tr>\n",
       "    <tr>\n",
       "        <td>Dispatch Rider</td>\n",
       "        <td>150000</td>\n",
       "    </tr>\n",
       "</table>"
      ],
      "text/plain": [
       "[('Dispatch Rider', 150000),\n",
       " ('Dispatch Rider', 150000),\n",
       " ('Dispatch Rider', 150000)]"
      ]
     },
     "execution_count": 24,
     "metadata": {},
     "output_type": "execute_result"
    }
   ],
   "source": [
    "%%sql\n",
    "SELECT em.job_role, sa.salary\n",
    "FROM employee_details AS em INNER JOIN salaries AS sa\n",
    "ON em.emp_id = sa.emp_id\n",
    "WHERE job_role == 'Dispatch Rider';"
   ]
  },
  {
   "cell_type": "code",
   "execution_count": 25,
   "metadata": {},
   "outputs": [
    {
     "name": "stdout",
     "output_type": "stream",
     "text": [
      " * sqlite:///employee.db\n",
      "Done.\n"
     ]
    },
    {
     "data": {
      "text/html": [
       "<table>\n",
       "    <tr>\n",
       "        <th>dept_id</th>\n",
       "        <th>name</th>\n",
       "        <th>manager_id</th>\n",
       "    </tr>\n",
       "    <tr>\n",
       "        <td>7001</td>\n",
       "        <td>Admin</td>\n",
       "        <td>3003</td>\n",
       "    </tr>\n",
       "    <tr>\n",
       "        <td>7002</td>\n",
       "        <td>Logistics</td>\n",
       "        <td>3004</td>\n",
       "    </tr>\n",
       "    <tr>\n",
       "        <td>7003</td>\n",
       "        <td>Finance</td>\n",
       "        <td>3005</td>\n",
       "    </tr>\n",
       "    <tr>\n",
       "        <td>7004</td>\n",
       "        <td>IT</td>\n",
       "        <td>3002</td>\n",
       "    </tr>\n",
       "</table>"
      ],
      "text/plain": [
       "[(7001, 'Admin', 3003),\n",
       " (7002, 'Logistics', 3004),\n",
       " (7003, 'Finance', 3005),\n",
       " (7004, 'IT', 3002)]"
      ]
     },
     "execution_count": 25,
     "metadata": {},
     "output_type": "execute_result"
    }
   ],
   "source": [
    "%%sql\n",
    "SELECT *\n",
    "FROM department\n",
    "LIMIT 5;"
   ]
  },
  {
   "cell_type": "code",
   "execution_count": 26,
   "metadata": {},
   "outputs": [
    {
     "name": "stdout",
     "output_type": "stream",
     "text": [
      " * sqlite:///employee.db\n",
      "Done.\n"
     ]
    },
    {
     "data": {
      "text/html": [
       "<table>\n",
       "    <tr>\n",
       "        <th>emp_id</th>\n",
       "        <th>salary</th>\n",
       "    </tr>\n",
       "    <tr>\n",
       "        <td>3001</td>\n",
       "        <td>None</td>\n",
       "    </tr>\n",
       "    <tr>\n",
       "        <td>3002</td>\n",
       "        <td>None</td>\n",
       "    </tr>\n",
       "    <tr>\n",
       "        <td>3003</td>\n",
       "        <td>400000</td>\n",
       "    </tr>\n",
       "    <tr>\n",
       "        <td>3004</td>\n",
       "        <td>400000</td>\n",
       "    </tr>\n",
       "    <tr>\n",
       "        <td>3005</td>\n",
       "        <td>450000</td>\n",
       "    </tr>\n",
       "</table>"
      ],
      "text/plain": [
       "[(3001, None), (3002, None), (3003, 400000), (3004, 400000), (3005, 450000)]"
      ]
     },
     "execution_count": 26,
     "metadata": {},
     "output_type": "execute_result"
    }
   ],
   "source": [
    "%%sql\n",
    "SELECT *\n",
    "FROM salaries\n",
    "LIMIT 5;"
   ]
  },
  {
   "cell_type": "code",
   "execution_count": 27,
   "metadata": {},
   "outputs": [
    {
     "name": "stdout",
     "output_type": "stream",
     "text": [
      " * sqlite:///employee.db\n",
      "Done.\n"
     ]
    },
    {
     "data": {
      "text/html": [
       "<table>\n",
       "    <tr>\n",
       "        <th>emp_id</th>\n",
       "        <th>firstname</th>\n",
       "        <th>lastname</th>\n",
       "        <th>job_role</th>\n",
       "        <th>manager_id</th>\n",
       "    </tr>\n",
       "    <tr>\n",
       "        <td>3001</td>\n",
       "        <td>Smith</td>\n",
       "        <td>Daniel</td>\n",
       "        <td>CEO</td>\n",
       "        <td>None</td>\n",
       "    </tr>\n",
       "    <tr>\n",
       "        <td>3002</td>\n",
       "        <td>Bernard</td>\n",
       "        <td>Williams</td>\n",
       "        <td>CTO</td>\n",
       "        <td>None</td>\n",
       "    </tr>\n",
       "    <tr>\n",
       "        <td>3003</td>\n",
       "        <td>Kane</td>\n",
       "        <td>Woods</td>\n",
       "        <td>Logistics Manager</td>\n",
       "        <td>3001</td>\n",
       "    </tr>\n",
       "    <tr>\n",
       "        <td>3004</td>\n",
       "        <td>Katty</td>\n",
       "        <td>Harris</td>\n",
       "        <td>Admin. Manager</td>\n",
       "        <td>3001</td>\n",
       "    </tr>\n",
       "    <tr>\n",
       "        <td>3005</td>\n",
       "        <td>Evelyn</td>\n",
       "        <td>Donald</td>\n",
       "        <td>Financial Analyst</td>\n",
       "        <td>3001</td>\n",
       "    </tr>\n",
       "</table>"
      ],
      "text/plain": [
       "[(3001, 'Smith', 'Daniel', 'CEO', None),\n",
       " (3002, 'Bernard', 'Williams', 'CTO', None),\n",
       " (3003, 'Kane', 'Woods', 'Logistics Manager', 3001),\n",
       " (3004, 'Katty', 'Harris', 'Admin. Manager', 3001),\n",
       " (3005, 'Evelyn', 'Donald', 'Financial Analyst', 3001)]"
      ]
     },
     "execution_count": 27,
     "metadata": {},
     "output_type": "execute_result"
    }
   ],
   "source": [
    "%%sql\n",
    "SELECT *\n",
    "FROM employee_details\n",
    "LIMIT 5;"
   ]
  },
  {
   "cell_type": "code",
   "execution_count": 28,
   "metadata": {},
   "outputs": [
    {
     "name": "stdout",
     "output_type": "stream",
     "text": [
      " * sqlite:///employee.db\n",
      "Done.\n"
     ]
    },
    {
     "data": {
      "text/html": [
       "<table>\n",
       "    <tr>\n",
       "        <th>emp_id</th>\n",
       "        <th>score</th>\n",
       "        <th>month</th>\n",
       "    </tr>\n",
       "    <tr>\n",
       "        <td>3001</td>\n",
       "        <td>None</td>\n",
       "        <td>January</td>\n",
       "    </tr>\n",
       "    <tr>\n",
       "        <td>3002</td>\n",
       "        <td>None</td>\n",
       "        <td>January</td>\n",
       "    </tr>\n",
       "    <tr>\n",
       "        <td>3003</td>\n",
       "        <td>1</td>\n",
       "        <td>January</td>\n",
       "    </tr>\n",
       "    <tr>\n",
       "        <td>3004</td>\n",
       "        <td>0.9</td>\n",
       "        <td>January</td>\n",
       "    </tr>\n",
       "    <tr>\n",
       "        <td>3005</td>\n",
       "        <td>0.9</td>\n",
       "        <td>January</td>\n",
       "    </tr>\n",
       "</table>"
      ],
      "text/plain": [
       "[(3001, None, 'January'),\n",
       " (3002, None, 'January'),\n",
       " (3003, 1, 'January'),\n",
       " (3004, 0.9, 'January'),\n",
       " (3005, 0.9, 'January')]"
      ]
     },
     "execution_count": 28,
     "metadata": {},
     "output_type": "execute_result"
    }
   ],
   "source": [
    "%%sql \n",
    "SELECT *\n",
    "FROM performance\n",
    "LIMIT 5;"
   ]
  },
  {
   "cell_type": "markdown",
   "metadata": {},
   "source": [
    "**Taking aside Department Heads, what Department does the company expend the most salaries on?**"
   ]
  },
  {
   "cell_type": "code",
   "execution_count": 29,
   "metadata": {},
   "outputs": [
    {
     "name": "stdout",
     "output_type": "stream",
     "text": [
      " * sqlite:///employee.db\n",
      "Done.\n"
     ]
    },
    {
     "data": {
      "text/html": [
       "<table>\n",
       "    <tr>\n",
       "        <th>name</th>\n",
       "        <th>highest_salary_expended</th>\n",
       "    </tr>\n",
       "    <tr>\n",
       "        <td>Finance</td>\n",
       "        <td>450000</td>\n",
       "    </tr>\n",
       "</table>"
      ],
      "text/plain": [
       "[('Finance', 450000)]"
      ]
     },
     "execution_count": 29,
     "metadata": {},
     "output_type": "execute_result"
    }
   ],
   "source": [
    "%%sql\n",
    "SELECT dp.name, MAX(sa.salary) AS highest_salary_expended\n",
    "FROM department AS dp INNER JOIN salaries AS sa\n",
    "ON dp.manager_id = sa.emp_id"
   ]
  },
  {
   "cell_type": "markdown",
   "metadata": {},
   "source": [
    "**If salaries are multiplied by *`performance score`* every month to decide each staff's take-home per month, determine the take-home for January.**"
   ]
  },
  {
   "cell_type": "code",
   "execution_count": 30,
   "metadata": {},
   "outputs": [
    {
     "name": "stdout",
     "output_type": "stream",
     "text": [
      " * sqlite:///employee.db\n",
      "Done.\n"
     ]
    },
    {
     "data": {
      "text/html": [
       "<table>\n",
       "    <tr>\n",
       "        <th>firstname</th>\n",
       "        <th>job_role</th>\n",
       "        <th>take_home</th>\n",
       "        <th>month</th>\n",
       "    </tr>\n",
       "    <tr>\n",
       "        <td>Smith</td>\n",
       "        <td>CEO</td>\n",
       "        <td>None</td>\n",
       "        <td>January</td>\n",
       "    </tr>\n",
       "    <tr>\n",
       "        <td>Bernard</td>\n",
       "        <td>CTO</td>\n",
       "        <td>None</td>\n",
       "        <td>January</td>\n",
       "    </tr>\n",
       "    <tr>\n",
       "        <td>Kane</td>\n",
       "        <td>Logistics Manager</td>\n",
       "        <td>400000</td>\n",
       "        <td>January</td>\n",
       "    </tr>\n",
       "    <tr>\n",
       "        <td>Katty</td>\n",
       "        <td>Admin. Manager</td>\n",
       "        <td>360000.0</td>\n",
       "        <td>January</td>\n",
       "    </tr>\n",
       "    <tr>\n",
       "        <td>Evelyn</td>\n",
       "        <td>Financial Analyst</td>\n",
       "        <td>405000.0</td>\n",
       "        <td>January</td>\n",
       "    </tr>\n",
       "    <tr>\n",
       "        <td>Edward</td>\n",
       "        <td>Business Analyst</td>\n",
       "        <td>400000</td>\n",
       "        <td>January</td>\n",
       "    </tr>\n",
       "    <tr>\n",
       "        <td>Caroline</td>\n",
       "        <td>Accountant</td>\n",
       "        <td>400000</td>\n",
       "        <td>January</td>\n",
       "    </tr>\n",
       "    <tr>\n",
       "        <td>Roland</td>\n",
       "        <td>Software Developer</td>\n",
       "        <td>320000.0</td>\n",
       "        <td>January</td>\n",
       "    </tr>\n",
       "    <tr>\n",
       "        <td>Dave</td>\n",
       "        <td>Software Developer</td>\n",
       "        <td>315000.0</td>\n",
       "        <td>January</td>\n",
       "    </tr>\n",
       "    <tr>\n",
       "        <td>Maria</td>\n",
       "        <td>UI/UX Designer</td>\n",
       "        <td>300000</td>\n",
       "        <td>January</td>\n",
       "    </tr>\n",
       "    <tr>\n",
       "        <td>Carlos</td>\n",
       "        <td>Data Analyst</td>\n",
       "        <td>300000</td>\n",
       "        <td>January</td>\n",
       "    </tr>\n",
       "    <tr>\n",
       "        <td>Brenda</td>\n",
       "        <td>Driver</td>\n",
       "        <td>180000</td>\n",
       "        <td>January</td>\n",
       "    </tr>\n",
       "    <tr>\n",
       "        <td>Kate</td>\n",
       "        <td>Dispatch Rider</td>\n",
       "        <td>105000.0</td>\n",
       "        <td>January</td>\n",
       "    </tr>\n",
       "    <tr>\n",
       "        <td>Wilberforce</td>\n",
       "        <td>Dispatch Rider</td>\n",
       "        <td>150000</td>\n",
       "        <td>January</td>\n",
       "    </tr>\n",
       "    <tr>\n",
       "        <td>Steffany</td>\n",
       "        <td>Dispatch Rider</td>\n",
       "        <td>150000</td>\n",
       "        <td>January</td>\n",
       "    </tr>\n",
       "    <tr>\n",
       "        <td>Helen</td>\n",
       "        <td>Warehouse Staff</td>\n",
       "        <td>108000.0</td>\n",
       "        <td>January</td>\n",
       "    </tr>\n",
       "    <tr>\n",
       "        <td>Kenneth</td>\n",
       "        <td>Warehouse Staff</td>\n",
       "        <td>120000</td>\n",
       "        <td>January</td>\n",
       "    </tr>\n",
       "    <tr>\n",
       "        <td>Gareth</td>\n",
       "        <td>Front Desk Officer</td>\n",
       "        <td>120000</td>\n",
       "        <td>January</td>\n",
       "    </tr>\n",
       "    <tr>\n",
       "        <td>James</td>\n",
       "        <td>Security</td>\n",
       "        <td>90000.0</td>\n",
       "        <td>January</td>\n",
       "    </tr>\n",
       "    <tr>\n",
       "        <td>Azeez</td>\n",
       "        <td>Cleaner</td>\n",
       "        <td>90000.0</td>\n",
       "        <td>January</td>\n",
       "    </tr>\n",
       "</table>"
      ],
      "text/plain": [
       "[('Smith', 'CEO', None, 'January'),\n",
       " ('Bernard', 'CTO', None, 'January'),\n",
       " ('Kane', 'Logistics Manager', 400000, 'January'),\n",
       " ('Katty', 'Admin. Manager', 360000.0, 'January'),\n",
       " ('Evelyn', 'Financial Analyst', 405000.0, 'January'),\n",
       " ('Edward', 'Business Analyst', 400000, 'January'),\n",
       " ('Caroline', 'Accountant', 400000, 'January'),\n",
       " ('Roland', 'Software Developer', 320000.0, 'January'),\n",
       " ('Dave', 'Software Developer', 315000.0, 'January'),\n",
       " ('Maria', 'UI/UX Designer', 300000, 'January'),\n",
       " ('Carlos', 'Data Analyst', 300000, 'January'),\n",
       " ('Brenda', 'Driver', 180000, 'January'),\n",
       " ('Kate', 'Dispatch Rider', 105000.0, 'January'),\n",
       " ('Wilberforce', 'Dispatch Rider', 150000, 'January'),\n",
       " ('Steffany', 'Dispatch Rider', 150000, 'January'),\n",
       " ('Helen', 'Warehouse Staff', 108000.0, 'January'),\n",
       " ('Kenneth', 'Warehouse Staff', 120000, 'January'),\n",
       " ('Gareth', 'Front Desk Officer', 120000, 'January'),\n",
       " ('James', 'Security', 90000.0, 'January'),\n",
       " ('Azeez', 'Cleaner', 90000.0, 'January')]"
      ]
     },
     "execution_count": 30,
     "metadata": {},
     "output_type": "execute_result"
    }
   ],
   "source": [
    "%%sql\n",
    "SELECT em.firstname, em.job_role, sa.salary * pf.score AS take_home, pf.month\n",
    "FROM employee_details AS em INNER JOIN salaries AS sa ON em.emp_id = sa.emp_id\n",
    "INNER JOIN performance AS pf ON em.emp_id = pf.emp_id\n",
    "WHERE month == 'January';"
   ]
  },
  {
   "cell_type": "code",
   "execution_count": 31,
   "metadata": {},
   "outputs": [
    {
     "name": "stdout",
     "output_type": "stream",
     "text": [
      " * sqlite:///employee.db\n",
      "Done.\n"
     ]
    },
    {
     "data": {
      "text/html": [
       "<table>\n",
       "    <tr>\n",
       "        <th>emp_id</th>\n",
       "        <th>score</th>\n",
       "        <th>month</th>\n",
       "    </tr>\n",
       "    <tr>\n",
       "        <td>3001</td>\n",
       "        <td>None</td>\n",
       "        <td>January</td>\n",
       "    </tr>\n",
       "    <tr>\n",
       "        <td>3002</td>\n",
       "        <td>None</td>\n",
       "        <td>January</td>\n",
       "    </tr>\n",
       "    <tr>\n",
       "        <td>3003</td>\n",
       "        <td>1</td>\n",
       "        <td>January</td>\n",
       "    </tr>\n",
       "    <tr>\n",
       "        <td>3004</td>\n",
       "        <td>0.9</td>\n",
       "        <td>January</td>\n",
       "    </tr>\n",
       "    <tr>\n",
       "        <td>3005</td>\n",
       "        <td>0.9</td>\n",
       "        <td>January</td>\n",
       "    </tr>\n",
       "</table>"
      ],
      "text/plain": [
       "[(3001, None, 'January'),\n",
       " (3002, None, 'January'),\n",
       " (3003, 1, 'January'),\n",
       " (3004, 0.9, 'January'),\n",
       " (3005, 0.9, 'January')]"
      ]
     },
     "execution_count": 31,
     "metadata": {},
     "output_type": "execute_result"
    }
   ],
   "source": [
    "%%sql\n",
    "SELECT *\n",
    "FROM performance\n",
    "LIMIT 5;"
   ]
  },
  {
   "cell_type": "markdown",
   "metadata": {},
   "source": [
    "**The average *`performance score`* for each *`employee`* through out the three month period.**"
   ]
  },
  {
   "cell_type": "code",
   "execution_count": 32,
   "metadata": {
    "scrolled": true
   },
   "outputs": [
    {
     "name": "stdout",
     "output_type": "stream",
     "text": [
      " * sqlite:///employee.db\n",
      "Done.\n"
     ]
    },
    {
     "data": {
      "text/html": [
       "<table>\n",
       "    <tr>\n",
       "        <th>emp_id</th>\n",
       "        <th>avg_score</th>\n",
       "    </tr>\n",
       "    <tr>\n",
       "        <td>3001</td>\n",
       "        <td>None</td>\n",
       "    </tr>\n",
       "    <tr>\n",
       "        <td>3002</td>\n",
       "        <td>None</td>\n",
       "    </tr>\n",
       "    <tr>\n",
       "        <td>3003</td>\n",
       "        <td>1</td>\n",
       "    </tr>\n",
       "    <tr>\n",
       "        <td>3004</td>\n",
       "        <td>0.9</td>\n",
       "    </tr>\n",
       "    <tr>\n",
       "        <td>3005</td>\n",
       "        <td>0.9</td>\n",
       "    </tr>\n",
       "    <tr>\n",
       "        <td>3006</td>\n",
       "        <td>1</td>\n",
       "    </tr>\n",
       "    <tr>\n",
       "        <td>3007</td>\n",
       "        <td>1</td>\n",
       "    </tr>\n",
       "    <tr>\n",
       "        <td>3008</td>\n",
       "        <td>0.8</td>\n",
       "    </tr>\n",
       "    <tr>\n",
       "        <td>3009</td>\n",
       "        <td>0.9</td>\n",
       "    </tr>\n",
       "    <tr>\n",
       "        <td>3010</td>\n",
       "        <td>1</td>\n",
       "    </tr>\n",
       "    <tr>\n",
       "        <td>3011</td>\n",
       "        <td>1</td>\n",
       "    </tr>\n",
       "    <tr>\n",
       "        <td>3012</td>\n",
       "        <td>1</td>\n",
       "    </tr>\n",
       "    <tr>\n",
       "        <td>3013</td>\n",
       "        <td>0.7</td>\n",
       "    </tr>\n",
       "    <tr>\n",
       "        <td>3014</td>\n",
       "        <td>1</td>\n",
       "    </tr>\n",
       "    <tr>\n",
       "        <td>3015</td>\n",
       "        <td>1</td>\n",
       "    </tr>\n",
       "    <tr>\n",
       "        <td>3016</td>\n",
       "        <td>0.9</td>\n",
       "    </tr>\n",
       "    <tr>\n",
       "        <td>3017</td>\n",
       "        <td>1</td>\n",
       "    </tr>\n",
       "    <tr>\n",
       "        <td>3018</td>\n",
       "        <td>1</td>\n",
       "    </tr>\n",
       "    <tr>\n",
       "        <td>3019</td>\n",
       "        <td>0.9</td>\n",
       "    </tr>\n",
       "    <tr>\n",
       "        <td>3020</td>\n",
       "        <td>0.9</td>\n",
       "    </tr>\n",
       "    <tr>\n",
       "        <td>3001</td>\n",
       "        <td>None</td>\n",
       "    </tr>\n",
       "    <tr>\n",
       "        <td>3002</td>\n",
       "        <td>None</td>\n",
       "    </tr>\n",
       "    <tr>\n",
       "        <td>3003</td>\n",
       "        <td>0.9</td>\n",
       "    </tr>\n",
       "    <tr>\n",
       "        <td>3004</td>\n",
       "        <td>1</td>\n",
       "    </tr>\n",
       "    <tr>\n",
       "        <td>3005</td>\n",
       "        <td>0.8</td>\n",
       "    </tr>\n",
       "    <tr>\n",
       "        <td>3006</td>\n",
       "        <td>1</td>\n",
       "    </tr>\n",
       "    <tr>\n",
       "        <td>3007</td>\n",
       "        <td>0.9</td>\n",
       "    </tr>\n",
       "    <tr>\n",
       "        <td>3008</td>\n",
       "        <td>1</td>\n",
       "    </tr>\n",
       "    <tr>\n",
       "        <td>3009</td>\n",
       "        <td>0.9</td>\n",
       "    </tr>\n",
       "    <tr>\n",
       "        <td>3010</td>\n",
       "        <td>1</td>\n",
       "    </tr>\n",
       "    <tr>\n",
       "        <td>3011</td>\n",
       "        <td>0.8</td>\n",
       "    </tr>\n",
       "    <tr>\n",
       "        <td>3012</td>\n",
       "        <td>0.8</td>\n",
       "    </tr>\n",
       "    <tr>\n",
       "        <td>3013</td>\n",
       "        <td>0.9</td>\n",
       "    </tr>\n",
       "    <tr>\n",
       "        <td>3014</td>\n",
       "        <td>1</td>\n",
       "    </tr>\n",
       "    <tr>\n",
       "        <td>3015</td>\n",
       "        <td>0.9</td>\n",
       "    </tr>\n",
       "    <tr>\n",
       "        <td>3016</td>\n",
       "        <td>0.8</td>\n",
       "    </tr>\n",
       "    <tr>\n",
       "        <td>3017</td>\n",
       "        <td>1</td>\n",
       "    </tr>\n",
       "    <tr>\n",
       "        <td>3018</td>\n",
       "        <td>1</td>\n",
       "    </tr>\n",
       "    <tr>\n",
       "        <td>3019</td>\n",
       "        <td>1</td>\n",
       "    </tr>\n",
       "    <tr>\n",
       "        <td>3020</td>\n",
       "        <td>1</td>\n",
       "    </tr>\n",
       "    <tr>\n",
       "        <td>3001</td>\n",
       "        <td>None</td>\n",
       "    </tr>\n",
       "    <tr>\n",
       "        <td>3002</td>\n",
       "        <td>None</td>\n",
       "    </tr>\n",
       "    <tr>\n",
       "        <td>3003</td>\n",
       "        <td>1</td>\n",
       "    </tr>\n",
       "    <tr>\n",
       "        <td>3004</td>\n",
       "        <td>0.8</td>\n",
       "    </tr>\n",
       "    <tr>\n",
       "        <td>3005</td>\n",
       "        <td>1</td>\n",
       "    </tr>\n",
       "    <tr>\n",
       "        <td>3006</td>\n",
       "        <td>0.8</td>\n",
       "    </tr>\n",
       "    <tr>\n",
       "        <td>3007</td>\n",
       "        <td>0.8</td>\n",
       "    </tr>\n",
       "    <tr>\n",
       "        <td>3008</td>\n",
       "        <td>1</td>\n",
       "    </tr>\n",
       "    <tr>\n",
       "        <td>3009</td>\n",
       "        <td>1</td>\n",
       "    </tr>\n",
       "    <tr>\n",
       "        <td>3010</td>\n",
       "        <td>1</td>\n",
       "    </tr>\n",
       "    <tr>\n",
       "        <td>3011</td>\n",
       "        <td>0.9</td>\n",
       "    </tr>\n",
       "    <tr>\n",
       "        <td>3012</td>\n",
       "        <td>1</td>\n",
       "    </tr>\n",
       "    <tr>\n",
       "        <td>3013</td>\n",
       "        <td>1</td>\n",
       "    </tr>\n",
       "    <tr>\n",
       "        <td>3014</td>\n",
       "        <td>1</td>\n",
       "    </tr>\n",
       "    <tr>\n",
       "        <td>3015</td>\n",
       "        <td>0.8</td>\n",
       "    </tr>\n",
       "    <tr>\n",
       "        <td>3016</td>\n",
       "        <td>1</td>\n",
       "    </tr>\n",
       "    <tr>\n",
       "        <td>3017</td>\n",
       "        <td>1</td>\n",
       "    </tr>\n",
       "    <tr>\n",
       "        <td>3018</td>\n",
       "        <td>0.9</td>\n",
       "    </tr>\n",
       "    <tr>\n",
       "        <td>3019</td>\n",
       "        <td>1</td>\n",
       "    </tr>\n",
       "    <tr>\n",
       "        <td>3020</td>\n",
       "        <td>1</td>\n",
       "    </tr>\n",
       "</table>"
      ],
      "text/plain": [
       "[(3001, None),\n",
       " (3002, None),\n",
       " (3003, 1),\n",
       " (3004, 0.9),\n",
       " (3005, 0.9),\n",
       " (3006, 1),\n",
       " (3007, 1),\n",
       " (3008, 0.8),\n",
       " (3009, 0.9),\n",
       " (3010, 1),\n",
       " (3011, 1),\n",
       " (3012, 1),\n",
       " (3013, 0.7),\n",
       " (3014, 1),\n",
       " (3015, 1),\n",
       " (3016, 0.9),\n",
       " (3017, 1),\n",
       " (3018, 1),\n",
       " (3019, 0.9),\n",
       " (3020, 0.9),\n",
       " (3001, None),\n",
       " (3002, None),\n",
       " (3003, 0.9),\n",
       " (3004, 1),\n",
       " (3005, 0.8),\n",
       " (3006, 1),\n",
       " (3007, 0.9),\n",
       " (3008, 1),\n",
       " (3009, 0.9),\n",
       " (3010, 1),\n",
       " (3011, 0.8),\n",
       " (3012, 0.8),\n",
       " (3013, 0.9),\n",
       " (3014, 1),\n",
       " (3015, 0.9),\n",
       " (3016, 0.8),\n",
       " (3017, 1),\n",
       " (3018, 1),\n",
       " (3019, 1),\n",
       " (3020, 1),\n",
       " (3001, None),\n",
       " (3002, None),\n",
       " (3003, 1),\n",
       " (3004, 0.8),\n",
       " (3005, 1),\n",
       " (3006, 0.8),\n",
       " (3007, 0.8),\n",
       " (3008, 1),\n",
       " (3009, 1),\n",
       " (3010, 1),\n",
       " (3011, 0.9),\n",
       " (3012, 1),\n",
       " (3013, 1),\n",
       " (3014, 1),\n",
       " (3015, 0.8),\n",
       " (3016, 1),\n",
       " (3017, 1),\n",
       " (3018, 0.9),\n",
       " (3019, 1),\n",
       " (3020, 1)]"
      ]
     },
     "execution_count": 32,
     "metadata": {},
     "output_type": "execute_result"
    }
   ],
   "source": [
    "%%sql \n",
    "SELECT emp_id, score AS avg_score \n",
    "FROM performance;"
   ]
  },
  {
   "cell_type": "markdown",
   "metadata": {},
   "source": [
    "**Which employee(s) had a perfect average score through the three month period?**"
   ]
  },
  {
   "cell_type": "code",
   "execution_count": 33,
   "metadata": {},
   "outputs": [
    {
     "name": "stdout",
     "output_type": "stream",
     "text": [
      " * sqlite:///employee.db\n",
      "Done.\n"
     ]
    },
    {
     "data": {
      "text/html": [
       "<table>\n",
       "    <tr>\n",
       "        <th>emp_id</th>\n",
       "        <th>firstname</th>\n",
       "        <th>lastname</th>\n",
       "        <th>job_role</th>\n",
       "        <th>avg_score</th>\n",
       "    </tr>\n",
       "    <tr>\n",
       "        <td>3003</td>\n",
       "        <td>Kane</td>\n",
       "        <td>Woods</td>\n",
       "        <td>Logistics Manager</td>\n",
       "        <td>1</td>\n",
       "    </tr>\n",
       "    <tr>\n",
       "        <td>3006</td>\n",
       "        <td>Edward</td>\n",
       "        <td>Peters</td>\n",
       "        <td>Business Analyst</td>\n",
       "        <td>1</td>\n",
       "    </tr>\n",
       "    <tr>\n",
       "        <td>3007</td>\n",
       "        <td>Caroline</td>\n",
       "        <td>Victor</td>\n",
       "        <td>Accountant</td>\n",
       "        <td>1</td>\n",
       "    </tr>\n",
       "    <tr>\n",
       "        <td>3010</td>\n",
       "        <td>Maria</td>\n",
       "        <td>Dylan</td>\n",
       "        <td>UI/UX Designer</td>\n",
       "        <td>1</td>\n",
       "    </tr>\n",
       "    <tr>\n",
       "        <td>3011</td>\n",
       "        <td>Carlos</td>\n",
       "        <td>Junior</td>\n",
       "        <td>Data Analyst</td>\n",
       "        <td>1</td>\n",
       "    </tr>\n",
       "    <tr>\n",
       "        <td>3012</td>\n",
       "        <td>Brenda</td>\n",
       "        <td>Marcus</td>\n",
       "        <td>Driver</td>\n",
       "        <td>1</td>\n",
       "    </tr>\n",
       "    <tr>\n",
       "        <td>3014</td>\n",
       "        <td>Wilberforce</td>\n",
       "        <td>Freeman</td>\n",
       "        <td>Dispatch Rider</td>\n",
       "        <td>1</td>\n",
       "    </tr>\n",
       "    <tr>\n",
       "        <td>3015</td>\n",
       "        <td>Steffany</td>\n",
       "        <td>Baker</td>\n",
       "        <td>Dispatch Rider</td>\n",
       "        <td>1</td>\n",
       "    </tr>\n",
       "    <tr>\n",
       "        <td>3017</td>\n",
       "        <td>Kenneth</td>\n",
       "        <td>Mubarak</td>\n",
       "        <td>Warehouse Staff</td>\n",
       "        <td>1</td>\n",
       "    </tr>\n",
       "    <tr>\n",
       "        <td>3018</td>\n",
       "        <td>Gareth</td>\n",
       "        <td>Dennis</td>\n",
       "        <td>Front Desk Officer</td>\n",
       "        <td>1</td>\n",
       "    </tr>\n",
       "    <tr>\n",
       "        <td>3004</td>\n",
       "        <td>Katty</td>\n",
       "        <td>Harris</td>\n",
       "        <td>Admin. Manager</td>\n",
       "        <td>1</td>\n",
       "    </tr>\n",
       "    <tr>\n",
       "        <td>3006</td>\n",
       "        <td>Edward</td>\n",
       "        <td>Peters</td>\n",
       "        <td>Business Analyst</td>\n",
       "        <td>1</td>\n",
       "    </tr>\n",
       "    <tr>\n",
       "        <td>3008</td>\n",
       "        <td>Roland</td>\n",
       "        <td>Cole</td>\n",
       "        <td>Software Developer</td>\n",
       "        <td>1</td>\n",
       "    </tr>\n",
       "    <tr>\n",
       "        <td>3010</td>\n",
       "        <td>Maria</td>\n",
       "        <td>Dylan</td>\n",
       "        <td>UI/UX Designer</td>\n",
       "        <td>1</td>\n",
       "    </tr>\n",
       "    <tr>\n",
       "        <td>3014</td>\n",
       "        <td>Wilberforce</td>\n",
       "        <td>Freeman</td>\n",
       "        <td>Dispatch Rider</td>\n",
       "        <td>1</td>\n",
       "    </tr>\n",
       "    <tr>\n",
       "        <td>3017</td>\n",
       "        <td>Kenneth</td>\n",
       "        <td>Mubarak</td>\n",
       "        <td>Warehouse Staff</td>\n",
       "        <td>1</td>\n",
       "    </tr>\n",
       "    <tr>\n",
       "        <td>3018</td>\n",
       "        <td>Gareth</td>\n",
       "        <td>Dennis</td>\n",
       "        <td>Front Desk Officer</td>\n",
       "        <td>1</td>\n",
       "    </tr>\n",
       "    <tr>\n",
       "        <td>3019</td>\n",
       "        <td>James</td>\n",
       "        <td>Cannon</td>\n",
       "        <td>Security</td>\n",
       "        <td>1</td>\n",
       "    </tr>\n",
       "    <tr>\n",
       "        <td>3020</td>\n",
       "        <td>Azeez</td>\n",
       "        <td>Hakeem</td>\n",
       "        <td>Cleaner</td>\n",
       "        <td>1</td>\n",
       "    </tr>\n",
       "    <tr>\n",
       "        <td>3003</td>\n",
       "        <td>Kane</td>\n",
       "        <td>Woods</td>\n",
       "        <td>Logistics Manager</td>\n",
       "        <td>1</td>\n",
       "    </tr>\n",
       "    <tr>\n",
       "        <td>3005</td>\n",
       "        <td>Evelyn</td>\n",
       "        <td>Donald</td>\n",
       "        <td>Financial Analyst</td>\n",
       "        <td>1</td>\n",
       "    </tr>\n",
       "    <tr>\n",
       "        <td>3008</td>\n",
       "        <td>Roland</td>\n",
       "        <td>Cole</td>\n",
       "        <td>Software Developer</td>\n",
       "        <td>1</td>\n",
       "    </tr>\n",
       "    <tr>\n",
       "        <td>3009</td>\n",
       "        <td>Dave</td>\n",
       "        <td>Roberts</td>\n",
       "        <td>Software Developer</td>\n",
       "        <td>1</td>\n",
       "    </tr>\n",
       "    <tr>\n",
       "        <td>3010</td>\n",
       "        <td>Maria</td>\n",
       "        <td>Dylan</td>\n",
       "        <td>UI/UX Designer</td>\n",
       "        <td>1</td>\n",
       "    </tr>\n",
       "    <tr>\n",
       "        <td>3012</td>\n",
       "        <td>Brenda</td>\n",
       "        <td>Marcus</td>\n",
       "        <td>Driver</td>\n",
       "        <td>1</td>\n",
       "    </tr>\n",
       "    <tr>\n",
       "        <td>3013</td>\n",
       "        <td>Kate</td>\n",
       "        <td>John</td>\n",
       "        <td>Dispatch Rider</td>\n",
       "        <td>1</td>\n",
       "    </tr>\n",
       "    <tr>\n",
       "        <td>3014</td>\n",
       "        <td>Wilberforce</td>\n",
       "        <td>Freeman</td>\n",
       "        <td>Dispatch Rider</td>\n",
       "        <td>1</td>\n",
       "    </tr>\n",
       "    <tr>\n",
       "        <td>3016</td>\n",
       "        <td>Helen</td>\n",
       "        <td>Gilbert</td>\n",
       "        <td>Warehouse Staff</td>\n",
       "        <td>1</td>\n",
       "    </tr>\n",
       "    <tr>\n",
       "        <td>3017</td>\n",
       "        <td>Kenneth</td>\n",
       "        <td>Mubarak</td>\n",
       "        <td>Warehouse Staff</td>\n",
       "        <td>1</td>\n",
       "    </tr>\n",
       "    <tr>\n",
       "        <td>3019</td>\n",
       "        <td>James</td>\n",
       "        <td>Cannon</td>\n",
       "        <td>Security</td>\n",
       "        <td>1</td>\n",
       "    </tr>\n",
       "    <tr>\n",
       "        <td>3020</td>\n",
       "        <td>Azeez</td>\n",
       "        <td>Hakeem</td>\n",
       "        <td>Cleaner</td>\n",
       "        <td>1</td>\n",
       "    </tr>\n",
       "</table>"
      ],
      "text/plain": [
       "[(3003, 'Kane', 'Woods', 'Logistics Manager', 1),\n",
       " (3006, 'Edward', 'Peters', 'Business Analyst', 1),\n",
       " (3007, 'Caroline', 'Victor', 'Accountant', 1),\n",
       " (3010, 'Maria', 'Dylan', 'UI/UX Designer', 1),\n",
       " (3011, 'Carlos', 'Junior', 'Data Analyst', 1),\n",
       " (3012, 'Brenda', 'Marcus', 'Driver', 1),\n",
       " (3014, 'Wilberforce', 'Freeman', 'Dispatch Rider', 1),\n",
       " (3015, 'Steffany', 'Baker', 'Dispatch Rider', 1),\n",
       " (3017, 'Kenneth', 'Mubarak', 'Warehouse Staff', 1),\n",
       " (3018, 'Gareth', 'Dennis', 'Front Desk Officer', 1),\n",
       " (3004, 'Katty', 'Harris', 'Admin. Manager', 1),\n",
       " (3006, 'Edward', 'Peters', 'Business Analyst', 1),\n",
       " (3008, 'Roland', 'Cole', 'Software Developer', 1),\n",
       " (3010, 'Maria', 'Dylan', 'UI/UX Designer', 1),\n",
       " (3014, 'Wilberforce', 'Freeman', 'Dispatch Rider', 1),\n",
       " (3017, 'Kenneth', 'Mubarak', 'Warehouse Staff', 1),\n",
       " (3018, 'Gareth', 'Dennis', 'Front Desk Officer', 1),\n",
       " (3019, 'James', 'Cannon', 'Security', 1),\n",
       " (3020, 'Azeez', 'Hakeem', 'Cleaner', 1),\n",
       " (3003, 'Kane', 'Woods', 'Logistics Manager', 1),\n",
       " (3005, 'Evelyn', 'Donald', 'Financial Analyst', 1),\n",
       " (3008, 'Roland', 'Cole', 'Software Developer', 1),\n",
       " (3009, 'Dave', 'Roberts', 'Software Developer', 1),\n",
       " (3010, 'Maria', 'Dylan', 'UI/UX Designer', 1),\n",
       " (3012, 'Brenda', 'Marcus', 'Driver', 1),\n",
       " (3013, 'Kate', 'John', 'Dispatch Rider', 1),\n",
       " (3014, 'Wilberforce', 'Freeman', 'Dispatch Rider', 1),\n",
       " (3016, 'Helen', 'Gilbert', 'Warehouse Staff', 1),\n",
       " (3017, 'Kenneth', 'Mubarak', 'Warehouse Staff', 1),\n",
       " (3019, 'James', 'Cannon', 'Security', 1),\n",
       " (3020, 'Azeez', 'Hakeem', 'Cleaner', 1)]"
      ]
     },
     "execution_count": 33,
     "metadata": {},
     "output_type": "execute_result"
    }
   ],
   "source": [
    "%%sql\n",
    "SELECT em.emp_id, em.firstname, em.lastname, em.job_role, pf.score AS avg_score\n",
    "FROM employee_details AS em INNER JOIN performance AS pf\n",
    "ON em.emp_id = pf.emp_id\n",
    "WHERE score == 1;"
   ]
  },
  {
   "cell_type": "markdown",
   "metadata": {},
   "source": [
    "**What departments do these employees belong to?**"
   ]
  },
  {
   "cell_type": "code",
   "execution_count": 34,
   "metadata": {
    "scrolled": true
   },
   "outputs": [
    {
     "name": "stdout",
     "output_type": "stream",
     "text": [
      " * sqlite:///employee.db\n",
      "Done.\n"
     ]
    },
    {
     "data": {
      "text/html": [
       "<table>\n",
       "    <tr>\n",
       "        <th>emp_id</th>\n",
       "        <th>firstname</th>\n",
       "        <th>lastname</th>\n",
       "        <th>job_role</th>\n",
       "        <th>avg_score</th>\n",
       "        <th>name</th>\n",
       "    </tr>\n",
       "    <tr>\n",
       "        <td>3003</td>\n",
       "        <td>Kane</td>\n",
       "        <td>Woods</td>\n",
       "        <td>Logistics Manager</td>\n",
       "        <td>1</td>\n",
       "        <td>Admin</td>\n",
       "    </tr>\n",
       "    <tr>\n",
       "        <td>3004</td>\n",
       "        <td>Katty</td>\n",
       "        <td>Harris</td>\n",
       "        <td>Admin. Manager</td>\n",
       "        <td>1</td>\n",
       "        <td>Logistics</td>\n",
       "    </tr>\n",
       "    <tr>\n",
       "        <td>3003</td>\n",
       "        <td>Kane</td>\n",
       "        <td>Woods</td>\n",
       "        <td>Logistics Manager</td>\n",
       "        <td>1</td>\n",
       "        <td>Admin</td>\n",
       "    </tr>\n",
       "    <tr>\n",
       "        <td>3005</td>\n",
       "        <td>Evelyn</td>\n",
       "        <td>Donald</td>\n",
       "        <td>Financial Analyst</td>\n",
       "        <td>1</td>\n",
       "        <td>Finance</td>\n",
       "    </tr>\n",
       "</table>"
      ],
      "text/plain": [
       "[(3003, 'Kane', 'Woods', 'Logistics Manager', 1, 'Admin'),\n",
       " (3004, 'Katty', 'Harris', 'Admin. Manager', 1, 'Logistics'),\n",
       " (3003, 'Kane', 'Woods', 'Logistics Manager', 1, 'Admin'),\n",
       " (3005, 'Evelyn', 'Donald', 'Financial Analyst', 1, 'Finance')]"
      ]
     },
     "execution_count": 34,
     "metadata": {},
     "output_type": "execute_result"
    }
   ],
   "source": [
    "%%sql\n",
    "SELECT em.emp_id, em.firstname, em.lastname, em.job_role, pf.score AS avg_score, dp.name\n",
    "FROM employee_details AS em INNER JOIN performance AS pf ON em.emp_id = pf.emp_id\n",
    "INNER JOIN department AS dp ON em.emp_id = dp.manager_id\n",
    "WHERE score == 1;"
   ]
  },
  {
   "cell_type": "markdown",
   "metadata": {},
   "source": [
    "---"
   ]
  }
 ],
 "metadata": {
  "kernelspec": {
   "display_name": "Python 3",
   "language": "python",
   "name": "python3"
  },
  "language_info": {
   "codemirror_mode": {
    "name": "ipython",
    "version": 3
   },
   "file_extension": ".py",
   "mimetype": "text/x-python",
   "name": "python",
   "nbconvert_exporter": "python",
   "pygments_lexer": "ipython3",
   "version": "3.8.8"
  }
 },
 "nbformat": 4,
 "nbformat_minor": 2
}
